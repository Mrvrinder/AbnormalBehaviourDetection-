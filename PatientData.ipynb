{
  "nbformat": 4,
  "nbformat_minor": 0,
  "metadata": {
    "colab": {
      "name": "PatientData.ipynb",
      "provenance": [],
      "collapsed_sections": [
        "j71ApjeyaW_r"
      ],
      "mount_file_id": "1h9VUqWEs7VbS5BnuxcDNEXIxSthLHbaB",
      "authorship_tag": "ABX9TyOU17UknaUVX0BKGU/DN24n",
      "include_colab_link": true
    },
    "kernelspec": {
      "display_name": "Python 3",
      "name": "python3"
    }
  },
  "cells": [
    {
      "cell_type": "markdown",
      "metadata": {
        "id": "view-in-github",
        "colab_type": "text"
      },
      "source": [
        "<a href=\"https://colab.research.google.com/github/Mrvrinder/AbnormalBehaviourDetection-/blob/main/PatientData.ipynb\" target=\"_parent\"><img src=\"https://colab.research.google.com/assets/colab-badge.svg\" alt=\"Open In Colab\"/></a>"
      ]
    },
    {
      "cell_type": "markdown",
      "metadata": {
        "id": "L1FnASLtnpOw"
      },
      "source": [
        "~ ***Dissertation***\n",
        "\n"
      ]
    },
    {
      "cell_type": "markdown",
      "metadata": {
        "id": "9wh2TlCwn_uF"
      },
      "source": [
        "**WARNING: Please run each block of code individually, in the correct order from topto bottom. \n",
        "Thank you\n",
        "\n",
        "Vrinder Chandar\n",
        "\n",
        "Student ID: S1628526\n",
        "Project Title: \"Detection of Abnormal Activity in Movements of Patients with Dementia\""
      ]
    },
    {
      "cell_type": "markdown",
      "metadata": {
        "id": "xoAZQmB4oyXO"
      },
      "source": [
        "Imports"
      ]
    },
    {
      "cell_type": "code",
      "metadata": {
        "id": "tDLdeN9K2cdJ"
      },
      "source": [
        "#This does not work \n",
        "#from sklearn.preprocessing import Imputer\n",
        "\n",
        "import pandas as pd\n",
        "import numpy as np\n",
        "import seaborn as sns\n",
        "import matplotlib.pyplot as plt\n",
        "import matplotlib.ticker as mtick\n",
        "\n",
        "from sklearn.model_selection import train_test_split, KFold\n",
        "from sklearn import model_selection\n",
        "from sklearn.svm import SVC\n",
        "%matplotlib inline\n",
        "import itertools\n",
        "import random  # for test data\n",
        "import seaborn as sns\n",
        "from sklearn import metrics\n",
        "import sklearn\n",
        "\n",
        "from sklearn.tree import DecisionTreeClassifier\n",
        "from sklearn.model_selection import cross_val_score\n",
        "from sklearn.preprocessing import LabelEncoder\n",
        "from sklearn.feature_selection import SelectKBest\n",
        "from sklearn.metrics import  accuracy_score, f1_score, precision_score,confusion_matrix, recall_score\n",
        "from sklearn.utils import resample\n",
        "\n",
        "from sklearn.neighbors import LocalOutlierFactor\n",
        "from sklearn.neighbors import KNeighborsClassifier \n",
        "from sklearn.svm import OneClassSVM\n",
        "\n",
        "from numpy import where\n",
        "from datetime import date,datetime,timedelta\n",
        "import matplotlib.pyplot as plt\n",
        "import pandas as pd\n"
      ],
      "execution_count": null,
      "outputs": []
    },
    {
      "cell_type": "code",
      "metadata": {
        "id": "PpBvaTrv4awq"
      },
      "source": [
        "# Code to read csv file into Colaboratory:\n",
        "!pip install -U -q PyDrive\n",
        "from pydrive.auth import GoogleAuth\n",
        "from pydrive.drive import GoogleDrive\n",
        "from google.colab import auth\n",
        "from oauth2client.client import GoogleCredentials\n",
        "# Authenticate and create the PyDrive client.\n",
        "auth.authenticate_user()\n",
        "gauth = GoogleAuth()\n",
        "gauth.credentials = GoogleCredentials.get_application_default()\n",
        "drive = GoogleDrive(gauth)"
      ],
      "execution_count": null,
      "outputs": []
    },
    {
      "cell_type": "code",
      "metadata": {
        "id": "4sMI1UhXFN75"
      },
      "source": [
        "auth.authenticate_user()\n",
        "gauth = GoogleAuth()\n",
        "gauth.credentials = GoogleCredentials.get_application_default()\n",
        "drive = GoogleDrive(gauth)"
      ],
      "execution_count": null,
      "outputs": []
    },
    {
      "cell_type": "code",
      "metadata": {
        "id": "h8_h3qSUSfOv"
      },
      "source": [
        "downloaded = drive.CreateFile({'id':'1wSGKW7EEeTxfJB4_h9hV-Igp7YLUBl1B'})   #https://drive.google.com/file/d/1wSGKW7EEeTxfJB4_h9hV-Igp7YLUBl1B/view?usp=sharing  #1wSGKW7EEeTxfJB4_h9hV-Igp7YLUBl1B\n",
        "downloaded.GetContentFile('BobPatientDataCSV.csv')  \n",
        "df3 = pd.read_csv('BobPatientDataCSV.csv')\n",
        "# Dataset is now stored in a Pandas Dataframe"
      ],
      "execution_count": null,
      "outputs": []
    },
    {
      "cell_type": "code",
      "metadata": {
        "id": "L3tFhxcqF_oz"
      },
      "source": [
        "df = pd.read_csv('BobPatientDataCSV.csv', parse_dates=['Start time', 'End time'])   \n",
        "#df = pd.read_csv('BobPatientDataCSV.csv')"
      ],
      "execution_count": null,
      "outputs": []
    },
    {
      "cell_type": "code",
      "metadata": {
        "colab": {
          "base_uri": "https://localhost:8080/",
          "height": 204
        },
        "id": "1Fvy5vHpF_qu",
        "outputId": "bc1afa78-74c1-42ee-8ccd-e8654f6533e0"
      },
      "source": [
        "df.head(5)"
      ],
      "execution_count": null,
      "outputs": [
        {
          "output_type": "execute_result",
          "data": {
            "text/html": [
              "<div>\n",
              "<style scoped>\n",
              "    .dataframe tbody tr th:only-of-type {\n",
              "        vertical-align: middle;\n",
              "    }\n",
              "\n",
              "    .dataframe tbody tr th {\n",
              "        vertical-align: top;\n",
              "    }\n",
              "\n",
              "    .dataframe thead th {\n",
              "        text-align: right;\n",
              "    }\n",
              "</style>\n",
              "<table border=\"1\" class=\"dataframe\">\n",
              "  <thead>\n",
              "    <tr style=\"text-align: right;\">\n",
              "      <th></th>\n",
              "      <th>Start time</th>\n",
              "      <th>End time</th>\n",
              "      <th>Location</th>\n",
              "      <th>Type</th>\n",
              "      <th>Place</th>\n",
              "      <th>Activity</th>\n",
              "      <th>Duration (Minutes)</th>\n",
              "      <th>Anomaly</th>\n",
              "    </tr>\n",
              "  </thead>\n",
              "  <tbody>\n",
              "    <tr>\n",
              "      <th>0</th>\n",
              "      <td>2011-11-28 02:27:00</td>\n",
              "      <td>2011-11-28 10:18:00</td>\n",
              "      <td>Bed</td>\n",
              "      <td>Pressure</td>\n",
              "      <td>Bedroom</td>\n",
              "      <td>Sleeping</td>\n",
              "      <td>471</td>\n",
              "      <td>0</td>\n",
              "    </tr>\n",
              "    <tr>\n",
              "      <th>1</th>\n",
              "      <td>2011-11-28 10:21:00</td>\n",
              "      <td>2011-11-28 10:21:00</td>\n",
              "      <td>Cabinet</td>\n",
              "      <td>Magnetic</td>\n",
              "      <td>Bathroom</td>\n",
              "      <td>Toileting</td>\n",
              "      <td>0</td>\n",
              "      <td>0</td>\n",
              "    </tr>\n",
              "    <tr>\n",
              "      <th>2</th>\n",
              "      <td>2011-11-28 10:21:00</td>\n",
              "      <td>2011-11-28 10:23:00</td>\n",
              "      <td>Basin</td>\n",
              "      <td>PIR</td>\n",
              "      <td>Bathroom</td>\n",
              "      <td>Toileting</td>\n",
              "      <td>2</td>\n",
              "      <td>0</td>\n",
              "    </tr>\n",
              "    <tr>\n",
              "      <th>3</th>\n",
              "      <td>2011-11-28 10:23:00</td>\n",
              "      <td>2011-11-28 10:23:00</td>\n",
              "      <td>Toilet</td>\n",
              "      <td>Flush</td>\n",
              "      <td>Bathroom</td>\n",
              "      <td>Toileting</td>\n",
              "      <td>0</td>\n",
              "      <td>0</td>\n",
              "    </tr>\n",
              "    <tr>\n",
              "      <th>4</th>\n",
              "      <td>2011-11-28 10:25:00</td>\n",
              "      <td>2011-11-28 10:32:00</td>\n",
              "      <td>Shower</td>\n",
              "      <td>PIR</td>\n",
              "      <td>Bathroom</td>\n",
              "      <td>Showering</td>\n",
              "      <td>7</td>\n",
              "      <td>0</td>\n",
              "    </tr>\n",
              "  </tbody>\n",
              "</table>\n",
              "</div>"
            ],
            "text/plain": [
              "           Start time            End time  ... Duration (Minutes) Anomaly\n",
              "0 2011-11-28 02:27:00 2011-11-28 10:18:00  ...                471       0\n",
              "1 2011-11-28 10:21:00 2011-11-28 10:21:00  ...                  0       0\n",
              "2 2011-11-28 10:21:00 2011-11-28 10:23:00  ...                  2       0\n",
              "3 2011-11-28 10:23:00 2011-11-28 10:23:00  ...                  0       0\n",
              "4 2011-11-28 10:25:00 2011-11-28 10:32:00  ...                  7       0\n",
              "\n",
              "[5 rows x 8 columns]"
            ]
          },
          "metadata": {
            "tags": []
          },
          "execution_count": 7
        }
      ]
    },
    {
      "cell_type": "code",
      "metadata": {
        "colab": {
          "base_uri": "https://localhost:8080/",
          "height": 204
        },
        "id": "izYcsc6fF_sb",
        "outputId": "b98256e7-0bb4-4025-bffa-d00d05211817"
      },
      "source": [
        "df.tail(5)"
      ],
      "execution_count": null,
      "outputs": [
        {
          "output_type": "execute_result",
          "data": {
            "text/html": [
              "<div>\n",
              "<style scoped>\n",
              "    .dataframe tbody tr th:only-of-type {\n",
              "        vertical-align: middle;\n",
              "    }\n",
              "\n",
              "    .dataframe tbody tr th {\n",
              "        vertical-align: top;\n",
              "    }\n",
              "\n",
              "    .dataframe thead th {\n",
              "        text-align: right;\n",
              "    }\n",
              "</style>\n",
              "<table border=\"1\" class=\"dataframe\">\n",
              "  <thead>\n",
              "    <tr style=\"text-align: right;\">\n",
              "      <th></th>\n",
              "      <th>Start time</th>\n",
              "      <th>End time</th>\n",
              "      <th>Location</th>\n",
              "      <th>Type</th>\n",
              "      <th>Place</th>\n",
              "      <th>Activity</th>\n",
              "      <th>Duration (Minutes)</th>\n",
              "      <th>Anomaly</th>\n",
              "    </tr>\n",
              "  </thead>\n",
              "  <tbody>\n",
              "    <tr>\n",
              "      <th>614</th>\n",
              "      <td>2011-12-22 20:38:00</td>\n",
              "      <td>2011-12-22 20:38:00</td>\n",
              "      <td>Fridge</td>\n",
              "      <td>Magnetic</td>\n",
              "      <td>Kitchen</td>\n",
              "      <td>Dinner</td>\n",
              "      <td>0</td>\n",
              "      <td>0</td>\n",
              "    </tr>\n",
              "    <tr>\n",
              "      <th>615</th>\n",
              "      <td>2011-12-22 20:39:00</td>\n",
              "      <td>2011-12-22 20:39:00</td>\n",
              "      <td>Toilet</td>\n",
              "      <td>Flush</td>\n",
              "      <td>Bathroom</td>\n",
              "      <td>Toileting</td>\n",
              "      <td>0</td>\n",
              "      <td>0</td>\n",
              "    </tr>\n",
              "    <tr>\n",
              "      <th>616</th>\n",
              "      <td>2011-12-22 20:45:00</td>\n",
              "      <td>2011-12-23 23:32:00</td>\n",
              "      <td>Seat</td>\n",
              "      <td>Pressure</td>\n",
              "      <td>Living</td>\n",
              "      <td>Spare_Time/TV</td>\n",
              "      <td>167</td>\n",
              "      <td>0</td>\n",
              "    </tr>\n",
              "    <tr>\n",
              "      <th>617</th>\n",
              "      <td>2011-12-23 23:35:00</td>\n",
              "      <td>2011-12-23 23:37:00</td>\n",
              "      <td>Toilet</td>\n",
              "      <td>Flush</td>\n",
              "      <td>Bathroom</td>\n",
              "      <td>Toileting</td>\n",
              "      <td>2</td>\n",
              "      <td>0</td>\n",
              "    </tr>\n",
              "    <tr>\n",
              "      <th>618</th>\n",
              "      <td>2011-12-23 23:42:00</td>\n",
              "      <td>2011-12-23 16:00:00</td>\n",
              "      <td>Bed</td>\n",
              "      <td>Pressure</td>\n",
              "      <td>Bedroom</td>\n",
              "      <td>Sleeping</td>\n",
              "      <td>978</td>\n",
              "      <td>1</td>\n",
              "    </tr>\n",
              "  </tbody>\n",
              "</table>\n",
              "</div>"
            ],
            "text/plain": [
              "             Start time            End time  ... Duration (Minutes) Anomaly\n",
              "614 2011-12-22 20:38:00 2011-12-22 20:38:00  ...                  0       0\n",
              "615 2011-12-22 20:39:00 2011-12-22 20:39:00  ...                  0       0\n",
              "616 2011-12-22 20:45:00 2011-12-23 23:32:00  ...                167       0\n",
              "617 2011-12-23 23:35:00 2011-12-23 23:37:00  ...                  2       0\n",
              "618 2011-12-23 23:42:00 2011-12-23 16:00:00  ...                978       1\n",
              "\n",
              "[5 rows x 8 columns]"
            ]
          },
          "metadata": {
            "tags": []
          },
          "execution_count": 8
        }
      ]
    },
    {
      "cell_type": "code",
      "metadata": {
        "colab": {
          "base_uri": "https://localhost:8080/"
        },
        "id": "JYkvPvqqI0by",
        "outputId": "7acfb164-df87-4d43-9d1a-0abc0e2feca7"
      },
      "source": [
        "print(df.count())"
      ],
      "execution_count": null,
      "outputs": [
        {
          "output_type": "stream",
          "text": [
            "Start time            619\n",
            "End time              619\n",
            "Location              619\n",
            "Type                  619\n",
            "Place                 619\n",
            "Activity              619\n",
            "Duration (Minutes)    619\n",
            "Anomaly               619\n",
            "dtype: int64\n"
          ],
          "name": "stdout"
        }
      ]
    },
    {
      "cell_type": "code",
      "metadata": {
        "colab": {
          "base_uri": "https://localhost:8080/"
        },
        "id": "5VmE25O5I0dl",
        "outputId": "e66f7d03-ab81-4f4d-8baf-c6a54c49cd86"
      },
      "source": [
        "print (df['Location'].unique())"
      ],
      "execution_count": null,
      "outputs": [
        {
          "output_type": "stream",
          "text": [
            "['Bed' 'Cabinet' 'Basin' 'Toilet' 'Shower' 'Fridge' 'Cupboard' 'Toaster'\n",
            " 'Cooktop' 'Microwave' 'Seat' 'Maindoor']\n"
          ],
          "name": "stdout"
        }
      ]
    },
    {
      "cell_type": "code",
      "metadata": {
        "colab": {
          "base_uri": "https://localhost:8080/"
        },
        "id": "kiml7NAsI0fP",
        "outputId": "cfaf81a3-f167-4580-8d3c-d50a94eec9c9"
      },
      "source": [
        "print (df['Type'].unique())"
      ],
      "execution_count": null,
      "outputs": [
        {
          "output_type": "stream",
          "text": [
            "['Pressure' 'Magnetic' 'PIR' 'Flush' 'Electric']\n"
          ],
          "name": "stdout"
        }
      ]
    },
    {
      "cell_type": "code",
      "metadata": {
        "colab": {
          "base_uri": "https://localhost:8080/"
        },
        "id": "hzpgUi08I0hM",
        "outputId": "913565b3-4be1-4aca-bc21-d8279a6ef776"
      },
      "source": [
        "print (df['Place'].unique())"
      ],
      "execution_count": null,
      "outputs": [
        {
          "output_type": "stream",
          "text": [
            "['Bedroom' 'Bathroom' 'Kitchen' 'Living' 'Entrance']\n"
          ],
          "name": "stdout"
        }
      ]
    },
    {
      "cell_type": "code",
      "metadata": {
        "colab": {
          "base_uri": "https://localhost:8080/"
        },
        "id": "Ldrgwls5I0i2",
        "outputId": "a0251874-473b-47db-980c-b43a52891933"
      },
      "source": [
        "print (df['Activity'].unique())"
      ],
      "execution_count": null,
      "outputs": [
        {
          "output_type": "stream",
          "text": [
            "['Sleeping' 'Toileting' 'Showering' 'Breakfast' 'Grooming' 'Spare_Time/TV'\n",
            " 'Leaving' 'Lunch' 'Dinner' 'Snack']\n"
          ],
          "name": "stdout"
        }
      ]
    },
    {
      "cell_type": "code",
      "metadata": {
        "colab": {
          "base_uri": "https://localhost:8080/"
        },
        "id": "5cQRVYbVI0k1",
        "outputId": "e2db0f23-04e5-41b6-ddcd-5572c68c52ed"
      },
      "source": [
        "#checking the datatype\n",
        "print (df.dtypes)"
      ],
      "execution_count": null,
      "outputs": [
        {
          "output_type": "stream",
          "text": [
            "Start time            datetime64[ns]\n",
            "End time              datetime64[ns]\n",
            "Location                      object\n",
            "Type                          object\n",
            "Place                         object\n",
            "Activity                      object\n",
            "Duration (Minutes)             int64\n",
            "Anomaly                        int64\n",
            "dtype: object\n"
          ],
          "name": "stdout"
        }
      ]
    },
    {
      "cell_type": "code",
      "metadata": {
        "colab": {
          "base_uri": "https://localhost:8080/"
        },
        "id": "viOd2SkAI0mt",
        "outputId": "6e3565b9-47d5-4256-920d-06233c49c9d2"
      },
      "source": [
        "# Checking Missing values or null entries in the dataset\n",
        "print (df.isnull().sum())"
      ],
      "execution_count": null,
      "outputs": [
        {
          "output_type": "stream",
          "text": [
            "Start time            0\n",
            "End time              0\n",
            "Location              0\n",
            "Type                  0\n",
            "Place                 0\n",
            "Activity              0\n",
            "Duration (Minutes)    0\n",
            "Anomaly               0\n",
            "dtype: int64\n"
          ],
          "name": "stdout"
        }
      ]
    },
    {
      "cell_type": "code",
      "metadata": {
        "id": "WVPYugeEJIhT"
      },
      "source": [
        "df = df.rename(columns={\"Duration (Minutes)\":\"Duration\"})"
      ],
      "execution_count": null,
      "outputs": []
    },
    {
      "cell_type": "markdown",
      "metadata": {
        "id": "ekM-jLvCJu4L"
      },
      "source": [
        "Data Exploration"
      ]
    },
    {
      "cell_type": "code",
      "metadata": {
        "colab": {
          "base_uri": "https://localhost:8080/",
          "height": 1000
        },
        "id": "xo9m9eDCJIs6",
        "outputId": "5b793bb5-3ed4-43e6-ea18-3edec25f8920"
      },
      "source": [
        "#this presents the categorical data - data exploration \n",
        "\n",
        "category_columns = ['Location','Type', 'Place', 'Activity']\n",
        "\n",
        "fig, axs = plt.subplots(2,3, sharex=False, sharey=False, figsize=(30, 20))\n",
        "\n",
        "total_count = 0\n",
        "for category_columns in category_columns:\n",
        "    val_count = df[category_columns].value_counts()\n",
        "    \n",
        "    trace_x = total_count //3\n",
        "    trace_y = total_count % 3\n",
        "    \n",
        "    \n",
        "    x_pos = np.arange(0, len(val_count))\n",
        "    \n",
        "    axs[trace_x, trace_y].bar(x_pos, val_count.values, tick_label = val_count.index)\n",
        "    axs[trace_x, trace_y].set_title(category_columns)\n",
        "    \n",
        "    for tick in axs[trace_x, trace_y].get_xticklabels():\n",
        "        tick.set_rotation(90)\n",
        "    \n",
        "    total_count += 1\n",
        "\n",
        "plt.show()"
      ],
      "execution_count": null,
      "outputs": [
        {
          "output_type": "display_data",
          "data": {
            "image/png": "[encoded data removed]",
            "text/plain": [
              "<Figure size 2160x1440 with 6 Axes>"
            ]
          },
          "metadata": {
            "tags": [],
            "needs_background": "light"
          }
        }
      ]
    },
    {
      "cell_type": "code",
      "metadata": {
        "colab": {
          "base_uri": "https://localhost:8080/"
        },
        "id": "OcZodesb603O",
        "outputId": "d2bd2db9-cb17-454b-e645-cd0d0a066f0b"
      },
      "source": [
        "print (df.describe(include=['object']))"
      ],
      "execution_count": null,
      "outputs": [
        {
          "output_type": "stream",
          "text": [
            "       Location      Type     Place       Activity\n",
            "count       619       619       619            619\n",
            "unique       12         5         5             10\n",
            "top        Seat  Magnetic  Bathroom  Spare_Time/TV\n",
            "freq        123       189       203            120\n"
          ],
          "name": "stdout"
        }
      ]
    },
    {
      "cell_type": "code",
      "metadata": {
        "colab": {
          "base_uri": "https://localhost:8080/",
          "height": 607
        },
        "id": "NqDkitt_cEBG",
        "outputId": "5754595b-d585-4ee8-9003-1fe71b35b1b0"
      },
      "source": [
        "#Visualization of the numerical attributes\n",
        "df.hist(bins=10, figsize=(14,10), color='#DC143C')\n",
        "plt.show()"
      ],
      "execution_count": null,
      "outputs": [
        {
          "output_type": "display_data",
          "data": {
            "image/png": "[encoded data removed]",
            "text/plain": [
              "<Figure size 1008x720 with 2 Axes>"
            ]
          },
          "metadata": {
            "tags": [],
            "needs_background": "light"
          }
        }
      ]
    },
    {
      "cell_type": "code",
      "metadata": {
        "colab": {
          "base_uri": "https://localhost:8080/",
          "height": 297
        },
        "id": "f6dz4UH_93Je",
        "outputId": "256a6dd3-b259-4a08-d0f2-5697fcf6eb98"
      },
      "source": [
        "df.describe()"
      ],
      "execution_count": null,
      "outputs": [
        {
          "output_type": "execute_result",
          "data": {
            "text/html": [
              "<div>\n",
              "<style scoped>\n",
              "    .dataframe tbody tr th:only-of-type {\n",
              "        vertical-align: middle;\n",
              "    }\n",
              "\n",
              "    .dataframe tbody tr th {\n",
              "        vertical-align: top;\n",
              "    }\n",
              "\n",
              "    .dataframe thead th {\n",
              "        text-align: right;\n",
              "    }\n",
              "</style>\n",
              "<table border=\"1\" class=\"dataframe\">\n",
              "  <thead>\n",
              "    <tr style=\"text-align: right;\">\n",
              "      <th></th>\n",
              "      <th>Duration</th>\n",
              "      <th>Anomaly</th>\n",
              "    </tr>\n",
              "  </thead>\n",
              "  <tbody>\n",
              "    <tr>\n",
              "      <th>count</th>\n",
              "      <td>619.000000</td>\n",
              "      <td>619.000000</td>\n",
              "    </tr>\n",
              "    <tr>\n",
              "      <th>mean</th>\n",
              "      <td>49.877221</td>\n",
              "      <td>0.014540</td>\n",
              "    </tr>\n",
              "    <tr>\n",
              "      <th>std</th>\n",
              "      <td>121.581759</td>\n",
              "      <td>0.119797</td>\n",
              "    </tr>\n",
              "    <tr>\n",
              "      <th>min</th>\n",
              "      <td>0.000000</td>\n",
              "      <td>0.000000</td>\n",
              "    </tr>\n",
              "    <tr>\n",
              "      <th>25%</th>\n",
              "      <td>0.000000</td>\n",
              "      <td>0.000000</td>\n",
              "    </tr>\n",
              "    <tr>\n",
              "      <th>50%</th>\n",
              "      <td>2.000000</td>\n",
              "      <td>0.000000</td>\n",
              "    </tr>\n",
              "    <tr>\n",
              "      <th>75%</th>\n",
              "      <td>30.000000</td>\n",
              "      <td>0.000000</td>\n",
              "    </tr>\n",
              "    <tr>\n",
              "      <th>max</th>\n",
              "      <td>978.000000</td>\n",
              "      <td>1.000000</td>\n",
              "    </tr>\n",
              "  </tbody>\n",
              "</table>\n",
              "</div>"
            ],
            "text/plain": [
              "         Duration     Anomaly\n",
              "count  619.000000  619.000000\n",
              "mean    49.877221    0.014540\n",
              "std    121.581759    0.119797\n",
              "min      0.000000    0.000000\n",
              "25%      0.000000    0.000000\n",
              "50%      2.000000    0.000000\n",
              "75%     30.000000    0.000000\n",
              "max    978.000000    1.000000"
            ]
          },
          "metadata": {
            "tags": []
          },
          "execution_count": 20
        }
      ]
    },
    {
      "cell_type": "code",
      "metadata": {
        "colab": {
          "base_uri": "https://localhost:8080/"
        },
        "id": "AXIkx7xJJIxQ",
        "outputId": "8f1472f6-5772-4509-a436-0571731d1517"
      },
      "source": [
        "#show values of all months \n",
        "\n",
        "df[\"Place\"].value_counts()"
      ],
      "execution_count": null,
      "outputs": [
        {
          "output_type": "execute_result",
          "data": {
            "text/plain": [
              "Bathroom    203\n",
              "Kitchen     200\n",
              "Living      122\n",
              "Entrance     57\n",
              "Bedroom      37\n",
              "Name: Place, dtype: int64"
            ]
          },
          "metadata": {
            "tags": []
          },
          "execution_count": 21
        }
      ]
    },
    {
      "cell_type": "code",
      "metadata": {
        "colab": {
          "base_uri": "https://localhost:8080/"
        },
        "id": "vWVkxyVkJIys",
        "outputId": "7a09c286-a3b3-4d06-ab62-6d6eac835e2a"
      },
      "source": [
        "Normal = len(df[df.Anomaly == 1])\n",
        "Abnormal = len(df[df.Anomaly == 0])\n",
        "print(\"Abnormalities\",Normal); print(\"Normalities\", Abnormal)"
      ],
      "execution_count": null,
      "outputs": [
        {
          "output_type": "stream",
          "text": [
            "Abnormalities 9\n",
            "Normalities 610\n"
          ],
          "name": "stdout"
        }
      ]
    },
    {
      "cell_type": "code",
      "metadata": {
        "colab": {
          "base_uri": "https://localhost:8080/"
        },
        "id": "GVZO1Uj4J61l",
        "outputId": "7df4f298-fbae-4fb1-ee05-e97fa7fe795b"
      },
      "source": [
        "df.dtypes"
      ],
      "execution_count": null,
      "outputs": [
        {
          "output_type": "execute_result",
          "data": {
            "text/plain": [
              "Start time    datetime64[ns]\n",
              "End time      datetime64[ns]\n",
              "Location              object\n",
              "Type                  object\n",
              "Place                 object\n",
              "Activity              object\n",
              "Duration               int64\n",
              "Anomaly                int64\n",
              "dtype: object"
            ]
          },
          "metadata": {
            "tags": []
          },
          "execution_count": 23
        }
      ]
    },
    {
      "cell_type": "code",
      "metadata": {
        "id": "tJWGeo-SJ66t"
      },
      "source": [
        "# The adjusted close accounts for stock splits, so that is what we should graph\n",
        "#X.plot(X.index, X['Location'])\n",
        "#X.title('Locations')\n",
        "#X.ylabel('Locations ($)');\n",
        "#X.show()"
      ],
      "execution_count": null,
      "outputs": []
    },
    {
      "cell_type": "code",
      "metadata": {
        "colab": {
          "base_uri": "https://localhost:8080/"
        },
        "id": "t42VRawUaaj8",
        "outputId": "df3e44a5-6cb0-4a6a-d290-90156e8af87a"
      },
      "source": [
        "df['Start time'].head()"
      ],
      "execution_count": null,
      "outputs": [
        {
          "output_type": "execute_result",
          "data": {
            "text/plain": [
              "0   2011-11-28 02:27:00\n",
              "1   2011-11-28 10:21:00\n",
              "2   2011-11-28 10:21:00\n",
              "3   2011-11-28 10:23:00\n",
              "4   2011-11-28 10:25:00\n",
              "Name: Start time, dtype: datetime64[ns]"
            ]
          },
          "metadata": {
            "tags": []
          },
          "execution_count": 25
        }
      ]
    },
    {
      "cell_type": "code",
      "metadata": {
        "colab": {
          "base_uri": "https://localhost:8080/"
        },
        "id": "XloMYhMUJ68i",
        "outputId": "66d04f10-b2dc-4c7f-b944-f26ca6c08e44"
      },
      "source": [
        "df['Start time'].min()"
      ],
      "execution_count": null,
      "outputs": [
        {
          "output_type": "execute_result",
          "data": {
            "text/plain": [
              "Timestamp('2011-01-12 01:37:00')"
            ]
          },
          "metadata": {
            "tags": []
          },
          "execution_count": 26
        }
      ]
    },
    {
      "cell_type": "code",
      "metadata": {
        "colab": {
          "base_uri": "https://localhost:8080/"
        },
        "id": "Q-1c12-KJ6_4",
        "outputId": "de7ca22b-7537-453b-a8ab-da4cd22ed8d0"
      },
      "source": [
        "df['End time'].min()"
      ],
      "execution_count": null,
      "outputs": [
        {
          "output_type": "execute_result",
          "data": {
            "text/plain": [
              "Timestamp('2011-01-12 01:34:00')"
            ]
          },
          "metadata": {
            "tags": []
          },
          "execution_count": 27
        }
      ]
    },
    {
      "cell_type": "code",
      "metadata": {
        "colab": {
          "base_uri": "https://localhost:8080/"
        },
        "id": "6b3GkecFKGZr",
        "outputId": "53981adf-d5bb-45b4-dbe2-e9641fa6e12b"
      },
      "source": [
        "df['Start time'].max()"
      ],
      "execution_count": null,
      "outputs": [
        {
          "output_type": "execute_result",
          "data": {
            "text/plain": [
              "Timestamp('2011-12-23 23:42:00')"
            ]
          },
          "metadata": {
            "tags": []
          },
          "execution_count": 28
        }
      ]
    },
    {
      "cell_type": "code",
      "metadata": {
        "colab": {
          "base_uri": "https://localhost:8080/"
        },
        "id": "zsVEoGHWKGb5",
        "outputId": "64b71739-face-42bc-fdf7-c5507b17d61e"
      },
      "source": [
        "df['End time'].max()"
      ],
      "execution_count": null,
      "outputs": [
        {
          "output_type": "execute_result",
          "data": {
            "text/plain": [
              "Timestamp('2011-12-23 23:37:00')"
            ]
          },
          "metadata": {
            "tags": []
          },
          "execution_count": 29
        }
      ]
    },
    {
      "cell_type": "code",
      "metadata": {
        "colab": {
          "base_uri": "https://localhost:8080/",
          "height": 295
        },
        "id": "hB4jVOeJdA6o",
        "outputId": "02c5c4b7-2437-4c33-f517-73d975a7f121"
      },
      "source": [
        "#Scatter plot of duration of patient in each room at home'\n",
        "df.plot(kind = 'scatter', x='Duration', y = 'Place', alpha = 0.5, color = 'b')\n",
        "plt.xlabel(\"Duration (Minutes)\")\n",
        "plt.ylabel(\"Place\")\n",
        "plt.title(\"Patient Duration - in each room\")\n",
        "plt.show()"
      ],
      "execution_count": null,
      "outputs": [
        {
          "output_type": "display_data",
          "data": {
            "image/png": "[encoded data removed]",
            "text/plain": [
              "<Figure size 432x288 with 1 Axes>"
            ]
          },
          "metadata": {
            "tags": [],
            "needs_background": "light"
          }
        }
      ]
    },
    {
      "cell_type": "markdown",
      "metadata": {
        "id": "wo5nU2O9KPo2"
      },
      "source": [
        "We can see thoughout the time, the patient has been  spending a lot of time in the living  room. However, this cannot be defined as an anomaly. However, it is clear that there are activity anomalies, defined as outliers. Ouliers seem to be activities performed in the bathroom, kitchen and bedroom. So fuurther investigation is required.  "
      ]
    },
    {
      "cell_type": "code",
      "metadata": {
        "colab": {
          "base_uri": "https://localhost:8080/",
          "height": 295
        },
        "id": "Dj4vvxazeNx5",
        "outputId": "a4b3644b-8333-47e6-9292-fbe3f2b1c3b5"
      },
      "source": [
        "#Scatter plot of Patient's duration in Minutes doing each activity\n",
        "df.plot(kind = 'scatter', x='Duration', y = 'Activity', alpha = 0.5, color = 'r')\n",
        "plt.xlabel(\"Duration (Minutes)\")\n",
        "plt.ylabel(\"Activity\")\n",
        "plt.title(\"Patient Duration doing each activity\")\n",
        "plt.show()"
      ],
      "execution_count": null,
      "outputs": [
        {
          "output_type": "display_data",
          "data": {
            "image/png": "[encoded data removed]",
            "text/plain": [
              "<Figure size 432x288 with 1 Axes>"
            ]
          },
          "metadata": {
            "tags": [],
            "needs_background": "light"
          }
        }
      ]
    },
    {
      "cell_type": "markdown",
      "metadata": {
        "id": "dqlWm7F_KY2C"
      },
      "source": [
        "The patient seems to have outliers in dinner, lunch, sleeping, grooming, showering and sleeping. These activities seem to have outliers as they are  normal for a patient to sleep 250-300 minutes.\n",
        "1. Patient has spend an abnormal amount of time having snacks in the bathroom,in comparison the other times. \n",
        "2. Patient has spent a lot of unexpected time having dinner, in comparison to the other times. \n",
        "3. Patient has spent a lot of unexpected time having lunch, in comparison to the other times.\n",
        "4. Patient has spent a lot of unexpected time grooming, in comparison to the other times.\n",
        "5. Patient has spent a lot of unexpected time toileting, in comparison to the other times.\n",
        "6. Patient has spent a lot of unexpected time showering, in comparison to the other times.\n",
        "6. Patient has spent a lot of unexpected time sleeping (15 hours), in comparison to the other times."
      ]
    },
    {
      "cell_type": "code",
      "metadata": {
        "id": "5YJAg9Qf8wgI"
      },
      "source": [
        "#Spliting the start date in a different column\n",
        "df['StartDate'] = df['Start time'].dt.date"
      ],
      "execution_count": null,
      "outputs": []
    },
    {
      "cell_type": "code",
      "metadata": {
        "id": "tgxGSMF0xRjx"
      },
      "source": [
        "visual=pd.DataFrame(df[['StartDate', 'Activity', 'Duration']])\n",
        "hols = visual.groupby(['StartDate', 'Activity'])['Duration'].sum().reset_index()\n",
        "hols2 = hols.pivot(index='StartDate', columns='Activity', values='Duration') "
      ],
      "execution_count": null,
      "outputs": []
    },
    {
      "cell_type": "code",
      "metadata": {
        "colab": {
          "base_uri": "https://localhost:8080/",
          "height": 452
        },
        "id": "WizmWkcKesF2",
        "outputId": "39a1fa6c-2fe3-4278-8b97-2807329d055a"
      },
      "source": [
        "# plot the pivoted dataframe\n",
        "hols2.plot.bar(stacked=True, figsize=(10, 6), ylabel='Duration', xlabel='StartDate', title='Daily activity')\n",
        "plt.legend(title='Category', bbox_to_anchor=(1.05, 1), loc='upper left')\n",
        "plt.show()"
      ],
      "execution_count": null,
      "outputs": [
        {
          "output_type": "display_data",
          "data": {
            "image/png": "[encoded data removed]",
            "text/plain": [
              "<Figure size 720x432 with 1 Axes>"
            ]
          },
          "metadata": {
            "tags": [],
            "needs_background": "light"
          }
        }
      ]
    },
    {
      "cell_type": "markdown",
      "metadata": {
        "id": "s0AJDGD-M0Dr"
      },
      "source": [
        "The Above diagram also shows the duration of each activity on daily basis. However, in the diagram it is hard distinguish between the activity anomalies. Therefore it has been decided not to be documented.  "
      ]
    },
    {
      "cell_type": "markdown",
      "metadata": {
        "id": "J5a7lORj64b9"
      },
      "source": [
        "2nd activity diagram "
      ]
    },
    {
      "cell_type": "code",
      "metadata": {
        "id": "t0vVY8cuALeH"
      },
      "source": [
        "df = df.drop(['StartDate'],axis=1)"
      ],
      "execution_count": null,
      "outputs": []
    },
    {
      "cell_type": "code",
      "metadata": {
        "colab": {
          "base_uri": "https://localhost:8080/",
          "height": 979
        },
        "id": "IWp8JsmM_l8F",
        "outputId": "dcf85ea9-2d0f-47b7-c4bd-b8af366373ea"
      },
      "source": [
        "visual = df.copy()\n",
        "visual = visual.set_index('Start time')\n",
        "grouped=visual.groupby(['Activity',visual.index.dayofyear]).groups\n",
        "\n",
        "summary_df=pd.DataFrame(columns=['Activity','DayOfYear','Duration','Date'])\n",
        "for index, group in grouped.items():\n",
        "  activity=index[0]\n",
        "  dayofyear=index[1]\n",
        "  filter = (visual['Activity']==activity) & (visual.index.dayofyear==dayofyear)\n",
        "  duration = visual[filter]['Duration'].mean()\n",
        "  date = visual[filter].index.date.max()\n",
        "  summary_df.loc[len(summary_df)]=[activity,dayofyear,duration,date]\n",
        "\n",
        "\n",
        "summary_df=summary_df.set_index('Date')\n",
        "\n",
        "min_date=visual.index.min()\n",
        "max_date=visual.index.max()\n",
        "\n",
        "\n",
        "daily=pd.date_range(start=min_date,end=max_date,freq='D')\n",
        "activity=['Breakfast','Sleeping']\n",
        "filter=summary_df.Activity=='Breakfast'\n",
        "breakfast=summary_df[filter]\n",
        "breakfast=breakfast.reindex(daily, method='bfill')\n",
        "\n",
        "filter=summary_df.Activity=='Sleeping'\n",
        "sleeping=summary_df[filter]\n",
        "sleeping=sleeping.reindex(daily,method='bfill')\n",
        "\n",
        "filter=summary_df.Activity=='Spare_Time/TV'\n",
        "spare_time=summary_df[filter]\n",
        "spare_time=spare_time.reindex(daily,method='bfill')\n",
        "\n",
        "\n",
        "plt.figure(figsize=(40,6))\n",
        "plt.bar(daily,breakfast['Duration'],color='green')\n",
        "plt.xticks(rotation=90)\n",
        "plt.xticks(daily)\n",
        "plt.show()\n",
        "plt.figure(figsize=(40,6))\n",
        "plt.bar(daily,sleeping['Duration'],color='blue')\n",
        "plt.xticks(rotation=90)\n",
        "plt.xticks(daily)\n",
        "plt.show()\n",
        "plt.figure(figsize=(40,6))\n",
        "plt.bar(daily,spare_time['Duration'],color='blue')\n",
        "plt.xticks(rotation=90)\n",
        "plt.xticks(daily)\n",
        "plt.show()"
      ],
      "execution_count": null,
      "outputs": [
        {
          "output_type": "display_data",
          "data": {
            "image/png": "[encoded data removed]",
            "text/plain": [
              "<Figure size 2880x432 with 1 Axes>"
            ]
          },
          "metadata": {
            "tags": [],
            "needs_background": "light"
          }
        },
        {
          "output_type": "display_data",
          "data": {
            "image/png": "[encoded data removed]",
            "text/plain": [
              "<Figure size 2880x432 with 1 Axes>"
            ]
          },
          "metadata": {
            "tags": [],
            "needs_background": "light"
          }
        },
        {
          "output_type": "display_data",
          "data": {
            "image/png": "[encoded data removed]",
            "text/plain": [
              "<Figure size 2880x432 with 1 Axes>"
            ]
          },
          "metadata": {
            "tags": [],
            "needs_background": "light"
          }
        }
      ]
    },
    {
      "cell_type": "markdown",
      "metadata": {
        "id": "ttS4U1tXNab-"
      },
      "source": [
        "- Again, the above diagram is a trial for identification of activity abnormalities. Unfortunately the diagram is not clear, so It has not been documented in the dissertation. "
      ]
    },
    {
      "cell_type": "markdown",
      "metadata": {
        "id": "Hjvsj_PVLUDB"
      },
      "source": [
        "# Data Transformation "
      ]
    },
    {
      "cell_type": "code",
      "metadata": {
        "id": "AeXpTuT0OIkW"
      },
      "source": [
        "obj_df = df.select_dtypes(include=['object']).copy()"
      ],
      "execution_count": null,
      "outputs": []
    },
    {
      "cell_type": "code",
      "metadata": {
        "id": "FO8fUhx1LUrB"
      },
      "source": [
        "#Splitting the catagorical variable to 0s and 1s using LabelEncoder\n",
        "\n",
        "LabelEncoder().fit_transform(['no','yes'])\n",
        "Location = LabelEncoder().fit_transform(df['Location'])\n",
        "Place = LabelEncoder().fit_transform(df['Place'])\n",
        "Type = LabelEncoder().fit_transform(df['Type'])\n",
        "Activity = LabelEncoder().fit_transform(df['Activity'])\n",
        "\n",
        "obj_df['Location'] = Location\n",
        "obj_df['Place']= Place\n",
        "obj_df['Type'] = Type\n",
        "obj_df['Activity'] = Activity\n",
        "\n",
        "obj_df['Duration'] = df['Duration']\n",
        "obj_df['Anomaly'] = df['Anomaly']\n",
        "\n",
        "\n",
        "obj_df['Start time'] = df['Start time']\n",
        "obj_df['End time'] = df['End time']\n",
        "X = obj_df #assigns input variables to X, to put it through the machines \n"
      ],
      "execution_count": null,
      "outputs": []
    },
    {
      "cell_type": "code",
      "metadata": {
        "id": "i9pxfDa9Jhrt"
      },
      "source": [
        "# # I am converting the start Day here\n",
        "# X['Start Day'] = df['Start time'].dt.day\n",
        "# # I am converting the start time here \n",
        "# X['Start Month'] = df['Start time'].dt.month\n",
        "# # Here I am convering the \"End time\" datatime64 hour and minute  \n",
        "# X['Start Hour'] = df['Start time'].dt.hour\n",
        "# # Here I get the start hour \n",
        "# X['Start Minute'] = df['Start time'].dt.minute\n",
        "\n",
        "\n",
        "\n",
        "# # Here I get the start hour \n",
        "# X['End Day'] = df['End time'].dt.day\n",
        "# # Here I get the start hour \n",
        "# X['End Month'] = df['End time'].dt.month\n",
        "# # Here I get the start hour \n",
        "# X['End Hour'] = df['End time'].dt.hour\n",
        "# # Here I get the start hour \n",
        "# X['End Minute'] = df['End time'].dt.minute"
      ],
      "execution_count": null,
      "outputs": []
    },
    {
      "cell_type": "code",
      "metadata": {
        "colab": {
          "base_uri": "https://localhost:8080/",
          "height": 204
        },
        "id": "d6NqsqrRLIGv",
        "outputId": "88a99009-e3e0-43d4-f78f-9b274f1c8963"
      },
      "source": [
        "X.head()"
      ],
      "execution_count": null,
      "outputs": [
        {
          "output_type": "execute_result",
          "data": {
            "text/html": [
              "<div>\n",
              "<style scoped>\n",
              "    .dataframe tbody tr th:only-of-type {\n",
              "        vertical-align: middle;\n",
              "    }\n",
              "\n",
              "    .dataframe tbody tr th {\n",
              "        vertical-align: top;\n",
              "    }\n",
              "\n",
              "    .dataframe thead th {\n",
              "        text-align: right;\n",
              "    }\n",
              "</style>\n",
              "<table border=\"1\" class=\"dataframe\">\n",
              "  <thead>\n",
              "    <tr style=\"text-align: right;\">\n",
              "      <th></th>\n",
              "      <th>Location</th>\n",
              "      <th>Type</th>\n",
              "      <th>Place</th>\n",
              "      <th>Activity</th>\n",
              "      <th>Duration</th>\n",
              "      <th>Anomaly</th>\n",
              "      <th>Start time</th>\n",
              "      <th>End time</th>\n",
              "    </tr>\n",
              "  </thead>\n",
              "  <tbody>\n",
              "    <tr>\n",
              "      <th>0</th>\n",
              "      <td>1</td>\n",
              "      <td>4</td>\n",
              "      <td>1</td>\n",
              "      <td>6</td>\n",
              "      <td>471</td>\n",
              "      <td>0</td>\n",
              "      <td>2011-11-28 02:27:00</td>\n",
              "      <td>2011-11-28 10:18:00</td>\n",
              "    </tr>\n",
              "    <tr>\n",
              "      <th>1</th>\n",
              "      <td>2</td>\n",
              "      <td>2</td>\n",
              "      <td>0</td>\n",
              "      <td>9</td>\n",
              "      <td>0</td>\n",
              "      <td>0</td>\n",
              "      <td>2011-11-28 10:21:00</td>\n",
              "      <td>2011-11-28 10:21:00</td>\n",
              "    </tr>\n",
              "    <tr>\n",
              "      <th>2</th>\n",
              "      <td>0</td>\n",
              "      <td>3</td>\n",
              "      <td>0</td>\n",
              "      <td>9</td>\n",
              "      <td>2</td>\n",
              "      <td>0</td>\n",
              "      <td>2011-11-28 10:21:00</td>\n",
              "      <td>2011-11-28 10:23:00</td>\n",
              "    </tr>\n",
              "    <tr>\n",
              "      <th>3</th>\n",
              "      <td>11</td>\n",
              "      <td>1</td>\n",
              "      <td>0</td>\n",
              "      <td>9</td>\n",
              "      <td>0</td>\n",
              "      <td>0</td>\n",
              "      <td>2011-11-28 10:23:00</td>\n",
              "      <td>2011-11-28 10:23:00</td>\n",
              "    </tr>\n",
              "    <tr>\n",
              "      <th>4</th>\n",
              "      <td>9</td>\n",
              "      <td>3</td>\n",
              "      <td>0</td>\n",
              "      <td>5</td>\n",
              "      <td>7</td>\n",
              "      <td>0</td>\n",
              "      <td>2011-11-28 10:25:00</td>\n",
              "      <td>2011-11-28 10:32:00</td>\n",
              "    </tr>\n",
              "  </tbody>\n",
              "</table>\n",
              "</div>"
            ],
            "text/plain": [
              "   Location  Type  Place  ...  Anomaly          Start time            End time\n",
              "0         1     4      1  ...        0 2011-11-28 02:27:00 2011-11-28 10:18:00\n",
              "1         2     2      0  ...        0 2011-11-28 10:21:00 2011-11-28 10:21:00\n",
              "2         0     3      0  ...        0 2011-11-28 10:21:00 2011-11-28 10:23:00\n",
              "3        11     1      0  ...        0 2011-11-28 10:23:00 2011-11-28 10:23:00\n",
              "4         9     3      0  ...        0 2011-11-28 10:25:00 2011-11-28 10:32:00\n",
              "\n",
              "[5 rows x 8 columns]"
            ]
          },
          "metadata": {
            "tags": []
          },
          "execution_count": 41
        }
      ]
    },
    {
      "cell_type": "markdown",
      "metadata": {
        "id": "8jLdhV_cLiP5"
      },
      "source": [
        "\n",
        "# Class Impalance: Since this is an unbalanced dataset, we need to take an extra step to take a subsample — known as undersampling "
      ]
    },
    {
      "cell_type": "code",
      "metadata": {
        "colab": {
          "base_uri": "https://localhost:8080/"
        },
        "id": "or4s45i0aPGZ",
        "outputId": "c6db0569-8178-4959-b252-6f00dc48e96e"
      },
      "source": [
        "X['Anomaly'].value_counts()"
      ],
      "execution_count": null,
      "outputs": [
        {
          "output_type": "execute_result",
          "data": {
            "text/plain": [
              "0    610\n",
              "1      9\n",
              "Name: Anomaly, dtype: int64"
            ]
          },
          "metadata": {
            "tags": []
          },
          "execution_count": 42
        }
      ]
    },
    {
      "cell_type": "code",
      "metadata": {
        "colab": {
          "base_uri": "https://localhost:8080/",
          "height": 295
        },
        "id": "Xq0rJlKcLYGt",
        "outputId": "08f5a105-7f2b-4e2b-8880-fb9a49c0949a"
      },
      "source": [
        "value_counts = X['Anomaly'].value_counts()\n",
        "\n",
        "value_counts.plot.bar(title = 'Anomalies counts')"
      ],
      "execution_count": null,
      "outputs": [
        {
          "output_type": "execute_result",
          "data": {
            "text/plain": [
              "<matplotlib.axes._subplots.AxesSubplot at 0x7f4d3c41c410>"
            ]
          },
          "metadata": {
            "tags": []
          },
          "execution_count": 43
        },
        {
          "output_type": "display_data",
          "data": {
            "image/png": "[encoded data removed]",
            "text/plain": [
              "<Figure size 432x288 with 1 Axes>"
            ]
          },
          "metadata": {
            "tags": [],
            "needs_background": "light"
          }
        }
      ]
    },
    {
      "cell_type": "code",
      "metadata": {
        "colab": {
          "base_uri": "https://localhost:8080/",
          "height": 431
        },
        "id": "Q61hxeVNLYOa",
        "outputId": "beccff78-db24-43a9-9d6a-9f1e9354316c"
      },
      "source": [
        "print(\"Original Data distribution\")\n",
        "print(X['Anomaly'].value_counts())\n",
        "\n",
        "# The majority class is getting down sampled\n",
        "dSampling = resample(X[X['Anomaly']==0],\n",
        "replace = True, \n",
        "n_samples = X[X['Anomaly']==1].shape[0], #Minority class is matched here\n",
        "random_state=42) \n",
        "\n",
        "# I combine the majority class with the  minority class here\n",
        "train_downsample = pd.concat([X[X['Anomaly']==1], dSampling])\n",
        "\n",
        "# I display the count for the new class\n",
        "print('Sci-Kit Learn : resample : Down Sampled data set')\n",
        "print(train_downsample['Anomaly'].value_counts())\n",
        "print(\"Num records = \", train_downsample.shape[0])\n",
        "train_downsample.Anomaly.value_counts().plot(kind='bar', title='Count (target)');"
      ],
      "execution_count": null,
      "outputs": [
        {
          "output_type": "stream",
          "text": [
            "Original Data distribution\n",
            "0    610\n",
            "1      9\n",
            "Name: Anomaly, dtype: int64\n",
            "Sci-Kit Learn : resample : Down Sampled data set\n",
            "1    9\n",
            "0    9\n",
            "Name: Anomaly, dtype: int64\n",
            "Num records =  18\n"
          ],
          "name": "stdout"
        },
        {
          "output_type": "display_data",
          "data": {
            "image/png": "[encoded data removed]",
            "text/plain": [
              "<Figure size 432x288 with 1 Axes>"
            ]
          },
          "metadata": {
            "tags": [],
            "needs_background": "light"
          }
        }
      ]
    },
    {
      "cell_type": "code",
      "metadata": {
        "colab": {
          "base_uri": "https://localhost:8080/"
        },
        "id": "HTx2N9qVLpHX",
        "outputId": "14bb9017-ce7e-4397-c402-ac7a936050b2"
      },
      "source": [
        "print(X.dtypes)"
      ],
      "execution_count": null,
      "outputs": [
        {
          "output_type": "stream",
          "text": [
            "Location               int64\n",
            "Type                   int64\n",
            "Place                  int64\n",
            "Activity               int64\n",
            "Duration               int64\n",
            "Anomaly                int64\n",
            "Start time    datetime64[ns]\n",
            "End time      datetime64[ns]\n",
            "dtype: object\n"
          ],
          "name": "stdout"
        }
      ]
    },
    {
      "cell_type": "markdown",
      "metadata": {
        "id": "AfDUKRDYLtB2"
      },
      "source": [
        "# Correlation Matix "
      ]
    },
    {
      "cell_type": "code",
      "metadata": {
        "colab": {
          "base_uri": "https://localhost:8080/",
          "height": 613
        },
        "id": "LviviwLyLpPR",
        "outputId": "a81b547c-d5e6-40a9-ce47-e05fee4f53ef"
      },
      "source": [
        "plt.figure(figsize=(20,10)) \n",
        "sns.heatmap(X.corr(), annot=True) "
      ],
      "execution_count": null,
      "outputs": [
        {
          "output_type": "execute_result",
          "data": {
            "text/plain": [
              "<matplotlib.axes._subplots.AxesSubplot at 0x7f4d3cc9d690>"
            ]
          },
          "metadata": {
            "tags": []
          },
          "execution_count": 46
        },
        {
          "output_type": "display_data",
          "data": {
            "image/png": "[encoded data removed]",
            "text/plain": [
              "<Figure size 1440x720 with 2 Axes>"
            ]
          },
          "metadata": {
            "tags": [],
            "needs_background": "light"
          }
        }
      ]
    },
    {
      "cell_type": "code",
      "metadata": {
        "colab": {
          "base_uri": "https://localhost:8080/",
          "height": 419
        },
        "id": "UTLz6bbMM-UD",
        "outputId": "b9656db5-e05c-4a3f-97af-d161e46096fc"
      },
      "source": [
        "df = df.drop(['Anomaly'],axis=1)\n",
        "df"
      ],
      "execution_count": null,
      "outputs": [
        {
          "output_type": "execute_result",
          "data": {
            "text/html": [
              "<div>\n",
              "<style scoped>\n",
              "    .dataframe tbody tr th:only-of-type {\n",
              "        vertical-align: middle;\n",
              "    }\n",
              "\n",
              "    .dataframe tbody tr th {\n",
              "        vertical-align: top;\n",
              "    }\n",
              "\n",
              "    .dataframe thead th {\n",
              "        text-align: right;\n",
              "    }\n",
              "</style>\n",
              "<table border=\"1\" class=\"dataframe\">\n",
              "  <thead>\n",
              "    <tr style=\"text-align: right;\">\n",
              "      <th></th>\n",
              "      <th>Start time</th>\n",
              "      <th>End time</th>\n",
              "      <th>Location</th>\n",
              "      <th>Type</th>\n",
              "      <th>Place</th>\n",
              "      <th>Activity</th>\n",
              "      <th>Duration</th>\n",
              "    </tr>\n",
              "  </thead>\n",
              "  <tbody>\n",
              "    <tr>\n",
              "      <th>0</th>\n",
              "      <td>2011-11-28 02:27:00</td>\n",
              "      <td>2011-11-28 10:18:00</td>\n",
              "      <td>Bed</td>\n",
              "      <td>Pressure</td>\n",
              "      <td>Bedroom</td>\n",
              "      <td>Sleeping</td>\n",
              "      <td>471</td>\n",
              "    </tr>\n",
              "    <tr>\n",
              "      <th>1</th>\n",
              "      <td>2011-11-28 10:21:00</td>\n",
              "      <td>2011-11-28 10:21:00</td>\n",
              "      <td>Cabinet</td>\n",
              "      <td>Magnetic</td>\n",
              "      <td>Bathroom</td>\n",
              "      <td>Toileting</td>\n",
              "      <td>0</td>\n",
              "    </tr>\n",
              "    <tr>\n",
              "      <th>2</th>\n",
              "      <td>2011-11-28 10:21:00</td>\n",
              "      <td>2011-11-28 10:23:00</td>\n",
              "      <td>Basin</td>\n",
              "      <td>PIR</td>\n",
              "      <td>Bathroom</td>\n",
              "      <td>Toileting</td>\n",
              "      <td>2</td>\n",
              "    </tr>\n",
              "    <tr>\n",
              "      <th>3</th>\n",
              "      <td>2011-11-28 10:23:00</td>\n",
              "      <td>2011-11-28 10:23:00</td>\n",
              "      <td>Toilet</td>\n",
              "      <td>Flush</td>\n",
              "      <td>Bathroom</td>\n",
              "      <td>Toileting</td>\n",
              "      <td>0</td>\n",
              "    </tr>\n",
              "    <tr>\n",
              "      <th>4</th>\n",
              "      <td>2011-11-28 10:25:00</td>\n",
              "      <td>2011-11-28 10:32:00</td>\n",
              "      <td>Shower</td>\n",
              "      <td>PIR</td>\n",
              "      <td>Bathroom</td>\n",
              "      <td>Showering</td>\n",
              "      <td>7</td>\n",
              "    </tr>\n",
              "    <tr>\n",
              "      <th>...</th>\n",
              "      <td>...</td>\n",
              "      <td>...</td>\n",
              "      <td>...</td>\n",
              "      <td>...</td>\n",
              "      <td>...</td>\n",
              "      <td>...</td>\n",
              "      <td>...</td>\n",
              "    </tr>\n",
              "    <tr>\n",
              "      <th>614</th>\n",
              "      <td>2011-12-22 20:38:00</td>\n",
              "      <td>2011-12-22 20:38:00</td>\n",
              "      <td>Fridge</td>\n",
              "      <td>Magnetic</td>\n",
              "      <td>Kitchen</td>\n",
              "      <td>Dinner</td>\n",
              "      <td>0</td>\n",
              "    </tr>\n",
              "    <tr>\n",
              "      <th>615</th>\n",
              "      <td>2011-12-22 20:39:00</td>\n",
              "      <td>2011-12-22 20:39:00</td>\n",
              "      <td>Toilet</td>\n",
              "      <td>Flush</td>\n",
              "      <td>Bathroom</td>\n",
              "      <td>Toileting</td>\n",
              "      <td>0</td>\n",
              "    </tr>\n",
              "    <tr>\n",
              "      <th>616</th>\n",
              "      <td>2011-12-22 20:45:00</td>\n",
              "      <td>2011-12-23 23:32:00</td>\n",
              "      <td>Seat</td>\n",
              "      <td>Pressure</td>\n",
              "      <td>Living</td>\n",
              "      <td>Spare_Time/TV</td>\n",
              "      <td>167</td>\n",
              "    </tr>\n",
              "    <tr>\n",
              "      <th>617</th>\n",
              "      <td>2011-12-23 23:35:00</td>\n",
              "      <td>2011-12-23 23:37:00</td>\n",
              "      <td>Toilet</td>\n",
              "      <td>Flush</td>\n",
              "      <td>Bathroom</td>\n",
              "      <td>Toileting</td>\n",
              "      <td>2</td>\n",
              "    </tr>\n",
              "    <tr>\n",
              "      <th>618</th>\n",
              "      <td>2011-12-23 23:42:00</td>\n",
              "      <td>2011-12-23 16:00:00</td>\n",
              "      <td>Bed</td>\n",
              "      <td>Pressure</td>\n",
              "      <td>Bedroom</td>\n",
              "      <td>Sleeping</td>\n",
              "      <td>978</td>\n",
              "    </tr>\n",
              "  </tbody>\n",
              "</table>\n",
              "<p>619 rows × 7 columns</p>\n",
              "</div>"
            ],
            "text/plain": [
              "             Start time            End time  ...       Activity Duration\n",
              "0   2011-11-28 02:27:00 2011-11-28 10:18:00  ...       Sleeping      471\n",
              "1   2011-11-28 10:21:00 2011-11-28 10:21:00  ...      Toileting        0\n",
              "2   2011-11-28 10:21:00 2011-11-28 10:23:00  ...      Toileting        2\n",
              "3   2011-11-28 10:23:00 2011-11-28 10:23:00  ...      Toileting        0\n",
              "4   2011-11-28 10:25:00 2011-11-28 10:32:00  ...      Showering        7\n",
              "..                  ...                 ...  ...            ...      ...\n",
              "614 2011-12-22 20:38:00 2011-12-22 20:38:00  ...         Dinner        0\n",
              "615 2011-12-22 20:39:00 2011-12-22 20:39:00  ...      Toileting        0\n",
              "616 2011-12-22 20:45:00 2011-12-23 23:32:00  ...  Spare_Time/TV      167\n",
              "617 2011-12-23 23:35:00 2011-12-23 23:37:00  ...      Toileting        2\n",
              "618 2011-12-23 23:42:00 2011-12-23 16:00:00  ...       Sleeping      978\n",
              "\n",
              "[619 rows x 7 columns]"
            ]
          },
          "metadata": {
            "tags": []
          },
          "execution_count": 47
        }
      ]
    },
    {
      "cell_type": "code",
      "metadata": {
        "id": "HnnKfTToL9ft"
      },
      "source": [
        "# Here I am separating the target variable in a different dataset \n",
        "x=X\n",
        "x = x.drop(['Anomaly'],axis=1)\n",
        "y = obj_df['Anomaly']"
      ],
      "execution_count": null,
      "outputs": []
    },
    {
      "cell_type": "markdown",
      "metadata": {
        "id": "73Cka1OEATim"
      },
      "source": [
        "# K-NN Unsuprvised Anomaly Detection  "
      ]
    },
    {
      "cell_type": "code",
      "metadata": {
        "id": "Q4ptx4WGGOZT"
      },
      "source": [
        "# converting columns into arrays \n",
        "xtrial2 = x.iloc[:, 3:5]\n",
        "x_trial3 = xtrial2.values"
      ],
      "execution_count": null,
      "outputs": []
    },
    {
      "cell_type": "code",
      "metadata": {
        "id": "XeY1AbftiWJp"
      },
      "source": [
        "from sklearn.neighbors import NearestNeighbors\n",
        "# Model initiation\n",
        "knn = NearestNeighbors(n_neighbors = 3)"
      ],
      "execution_count": null,
      "outputs": []
    },
    {
      "cell_type": "code",
      "metadata": {
        "id": "Hqy1q0xZp1P2",
        "colab": {
          "base_uri": "https://localhost:8080/"
        },
        "outputId": "31c87a94-5fa9-4f32-a35b-ee4cbca2e62a"
      },
      "source": [
        "# model fitting\n",
        "knn.fit(x_trial3)"
      ],
      "execution_count": null,
      "outputs": [
        {
          "output_type": "execute_result",
          "data": {
            "text/plain": [
              "NearestNeighbors(algorithm='auto', leaf_size=30, metric='minkowski',\n",
              "                 metric_params=None, n_jobs=None, n_neighbors=3, p=2,\n",
              "                 radius=1.0)"
            ]
          },
          "metadata": {
            "tags": []
          },
          "execution_count": 61
        }
      ]
    },
    {
      "cell_type": "code",
      "metadata": {
        "colab": {
          "base_uri": "https://localhost:8080/",
          "height": 282
        },
        "id": "amCjVsiSl29k",
        "outputId": "3fbb4c26-4aa0-4637-d5a2-f0fe319f42cc"
      },
      "source": [
        "# distances and indexes of k-neaighbors from model outputs\n",
        "distances, indexes = knn.kneighbors(x_trial3)\n",
        "# plot mean of k-distances of each observation\n",
        "plt.plot(distances.mean(axis =1))"
      ],
      "execution_count": null,
      "outputs": [
        {
          "output_type": "execute_result",
          "data": {
            "text/plain": [
              "[<matplotlib.lines.Line2D at 0x7f4d3c43da10>]"
            ]
          },
          "metadata": {
            "tags": []
          },
          "execution_count": 62
        },
        {
          "output_type": "display_data",
          "data": {
            "image/png": "[encoded data removed]",
            "text/plain": [
              "<Figure size 432x288 with 1 Axes>"
            ]
          },
          "metadata": {
            "tags": [],
            "needs_background": "light"
          }
        }
      ]
    },
    {
      "cell_type": "code",
      "metadata": {
        "colab": {
          "base_uri": "https://localhost:8080/",
          "height": 917
        },
        "id": "COj7Wo-Gl3OC",
        "outputId": "8e30a49b-0fa9-4986-c8e3-02a954435e79"
      },
      "source": [
        "# visually determine cutoff point for anomalies > \n",
        "outlier_index = np.where(distances.mean(axis = 1) > 3)\n",
        "# filter outlier values\n",
        "out_values = x.iloc[outlier_index]\n",
        "out_values"
      ],
      "execution_count": null,
      "outputs": [
        {
          "output_type": "execute_result",
          "data": {
            "text/html": [
              "<div>\n",
              "<style scoped>\n",
              "    .dataframe tbody tr th:only-of-type {\n",
              "        vertical-align: middle;\n",
              "    }\n",
              "\n",
              "    .dataframe tbody tr th {\n",
              "        vertical-align: top;\n",
              "    }\n",
              "\n",
              "    .dataframe thead th {\n",
              "        text-align: right;\n",
              "    }\n",
              "</style>\n",
              "<table border=\"1\" class=\"dataframe\">\n",
              "  <thead>\n",
              "    <tr style=\"text-align: right;\">\n",
              "      <th></th>\n",
              "      <th>Location</th>\n",
              "      <th>Type</th>\n",
              "      <th>Place</th>\n",
              "      <th>Activity</th>\n",
              "      <th>Duration</th>\n",
              "      <th>Start time</th>\n",
              "      <th>End time</th>\n",
              "    </tr>\n",
              "  </thead>\n",
              "  <tbody>\n",
              "    <tr>\n",
              "      <th>0</th>\n",
              "      <td>1</td>\n",
              "      <td>4</td>\n",
              "      <td>1</td>\n",
              "      <td>6</td>\n",
              "      <td>471</td>\n",
              "      <td>2011-11-28 02:27:00</td>\n",
              "      <td>2011-11-28 10:18:00</td>\n",
              "    </tr>\n",
              "    <tr>\n",
              "      <th>13</th>\n",
              "      <td>8</td>\n",
              "      <td>4</td>\n",
              "      <td>4</td>\n",
              "      <td>8</td>\n",
              "      <td>134</td>\n",
              "      <td>2011-11-28 10:51:00</td>\n",
              "      <td>2011-11-28 13:05:00</td>\n",
              "    </tr>\n",
              "    <tr>\n",
              "      <th>28</th>\n",
              "      <td>8</td>\n",
              "      <td>4</td>\n",
              "      <td>4</td>\n",
              "      <td>8</td>\n",
              "      <td>249</td>\n",
              "      <td>2011-11-28 16:10:00</td>\n",
              "      <td>2011-11-28 20:19:00</td>\n",
              "    </tr>\n",
              "    <tr>\n",
              "      <th>30</th>\n",
              "      <td>8</td>\n",
              "      <td>4</td>\n",
              "      <td>4</td>\n",
              "      <td>8</td>\n",
              "      <td>299</td>\n",
              "      <td>2011-11-28 20:45:00</td>\n",
              "      <td>2011-11-29 01:44:00</td>\n",
              "    </tr>\n",
              "    <tr>\n",
              "      <th>66</th>\n",
              "      <td>1</td>\n",
              "      <td>4</td>\n",
              "      <td>1</td>\n",
              "      <td>6</td>\n",
              "      <td>525</td>\n",
              "      <td>2011-11-30 01:22:00</td>\n",
              "      <td>2011-11-30 10:07:00</td>\n",
              "    </tr>\n",
              "    <tr>\n",
              "      <th>102</th>\n",
              "      <td>8</td>\n",
              "      <td>4</td>\n",
              "      <td>4</td>\n",
              "      <td>8</td>\n",
              "      <td>310</td>\n",
              "      <td>2011-11-30 20:24:00</td>\n",
              "      <td>2011-01-12 01:34:00</td>\n",
              "    </tr>\n",
              "    <tr>\n",
              "      <th>132</th>\n",
              "      <td>1</td>\n",
              "      <td>4</td>\n",
              "      <td>1</td>\n",
              "      <td>6</td>\n",
              "      <td>600</td>\n",
              "      <td>2011-02-12 02:15:00</td>\n",
              "      <td>2011-02-12 12:15:00</td>\n",
              "    </tr>\n",
              "    <tr>\n",
              "      <th>155</th>\n",
              "      <td>8</td>\n",
              "      <td>4</td>\n",
              "      <td>4</td>\n",
              "      <td>8</td>\n",
              "      <td>235</td>\n",
              "      <td>2011-02-12 21:46:00</td>\n",
              "      <td>2011-03-12 01:41:00</td>\n",
              "    </tr>\n",
              "    <tr>\n",
              "      <th>156</th>\n",
              "      <td>1</td>\n",
              "      <td>4</td>\n",
              "      <td>1</td>\n",
              "      <td>6</td>\n",
              "      <td>609</td>\n",
              "      <td>2011-03-12 01:47:00</td>\n",
              "      <td>2011-03-12 11:40:00</td>\n",
              "    </tr>\n",
              "    <tr>\n",
              "      <th>173</th>\n",
              "      <td>8</td>\n",
              "      <td>4</td>\n",
              "      <td>4</td>\n",
              "      <td>8</td>\n",
              "      <td>195</td>\n",
              "      <td>2011-03-12 20:38:00</td>\n",
              "      <td>2011-03-12 23:53:00</td>\n",
              "    </tr>\n",
              "    <tr>\n",
              "      <th>175</th>\n",
              "      <td>8</td>\n",
              "      <td>4</td>\n",
              "      <td>4</td>\n",
              "      <td>8</td>\n",
              "      <td>201</td>\n",
              "      <td>2011-03-12 23:55:00</td>\n",
              "      <td>2011-04-12 03:16:00</td>\n",
              "    </tr>\n",
              "    <tr>\n",
              "      <th>234</th>\n",
              "      <td>8</td>\n",
              "      <td>4</td>\n",
              "      <td>4</td>\n",
              "      <td>8</td>\n",
              "      <td>211</td>\n",
              "      <td>2011-05-12 21:07:00</td>\n",
              "      <td>2011-06-12 00:38:00</td>\n",
              "    </tr>\n",
              "    <tr>\n",
              "      <th>297</th>\n",
              "      <td>8</td>\n",
              "      <td>4</td>\n",
              "      <td>4</td>\n",
              "      <td>8</td>\n",
              "      <td>287</td>\n",
              "      <td>2011-07-12 20:45:00</td>\n",
              "      <td>2011-08-12 01:32:00</td>\n",
              "    </tr>\n",
              "    <tr>\n",
              "      <th>298</th>\n",
              "      <td>1</td>\n",
              "      <td>4</td>\n",
              "      <td>1</td>\n",
              "      <td>6</td>\n",
              "      <td>575</td>\n",
              "      <td>2011-08-12 01:39:00</td>\n",
              "      <td>2011-08-12 11:14:00</td>\n",
              "    </tr>\n",
              "    <tr>\n",
              "      <th>343</th>\n",
              "      <td>1</td>\n",
              "      <td>4</td>\n",
              "      <td>1</td>\n",
              "      <td>6</td>\n",
              "      <td>516</td>\n",
              "      <td>2011-10-12 00:50:00</td>\n",
              "      <td>2011-10-12 09:26:00</td>\n",
              "    </tr>\n",
              "    <tr>\n",
              "      <th>367</th>\n",
              "      <td>1</td>\n",
              "      <td>4</td>\n",
              "      <td>1</td>\n",
              "      <td>6</td>\n",
              "      <td>510</td>\n",
              "      <td>2011-11-12 02:28:00</td>\n",
              "      <td>2011-11-12 10:58:00</td>\n",
              "    </tr>\n",
              "    <tr>\n",
              "      <th>408</th>\n",
              "      <td>1</td>\n",
              "      <td>4</td>\n",
              "      <td>1</td>\n",
              "      <td>6</td>\n",
              "      <td>595</td>\n",
              "      <td>2011-12-13 02:20:00</td>\n",
              "      <td>2011-12-13 12:15:00</td>\n",
              "    </tr>\n",
              "    <tr>\n",
              "      <th>436</th>\n",
              "      <td>5</td>\n",
              "      <td>2</td>\n",
              "      <td>3</td>\n",
              "      <td>4</td>\n",
              "      <td>54</td>\n",
              "      <td>2011-12-14 12:57:00</td>\n",
              "      <td>2011-12-14 13:51:00</td>\n",
              "    </tr>\n",
              "    <tr>\n",
              "      <th>449</th>\n",
              "      <td>1</td>\n",
              "      <td>4</td>\n",
              "      <td>1</td>\n",
              "      <td>6</td>\n",
              "      <td>640</td>\n",
              "      <td>2011-12-14 23:42:00</td>\n",
              "      <td>2011-12-15 10:32:00</td>\n",
              "    </tr>\n",
              "    <tr>\n",
              "      <th>469</th>\n",
              "      <td>1</td>\n",
              "      <td>4</td>\n",
              "      <td>1</td>\n",
              "      <td>6</td>\n",
              "      <td>540</td>\n",
              "      <td>2011-12-16 00:06:00</td>\n",
              "      <td>2011-12-16 09:06:00</td>\n",
              "    </tr>\n",
              "    <tr>\n",
              "      <th>495</th>\n",
              "      <td>8</td>\n",
              "      <td>4</td>\n",
              "      <td>4</td>\n",
              "      <td>8</td>\n",
              "      <td>325</td>\n",
              "      <td>2011-12-17 10:30:00</td>\n",
              "      <td>2011-12-17 15:55:00</td>\n",
              "    </tr>\n",
              "    <tr>\n",
              "      <th>526</th>\n",
              "      <td>3</td>\n",
              "      <td>3</td>\n",
              "      <td>3</td>\n",
              "      <td>1</td>\n",
              "      <td>35</td>\n",
              "      <td>2011-12-18 20:50:00</td>\n",
              "      <td>2011-12-18 21:25:00</td>\n",
              "    </tr>\n",
              "    <tr>\n",
              "      <th>552</th>\n",
              "      <td>1</td>\n",
              "      <td>4</td>\n",
              "      <td>1</td>\n",
              "      <td>6</td>\n",
              "      <td>455</td>\n",
              "      <td>2011-12-20 23:57:00</td>\n",
              "      <td>2011-12-20 07:32:00</td>\n",
              "    </tr>\n",
              "    <tr>\n",
              "      <th>554</th>\n",
              "      <td>1</td>\n",
              "      <td>4</td>\n",
              "      <td>1</td>\n",
              "      <td>6</td>\n",
              "      <td>270</td>\n",
              "      <td>2011-12-20 07:45:00</td>\n",
              "      <td>2011-12-20 12:15:00</td>\n",
              "    </tr>\n",
              "    <tr>\n",
              "      <th>569</th>\n",
              "      <td>0</td>\n",
              "      <td>3</td>\n",
              "      <td>0</td>\n",
              "      <td>2</td>\n",
              "      <td>145</td>\n",
              "      <td>2011-12-20 23:51:00</td>\n",
              "      <td>2011-12-21 02:16:00</td>\n",
              "    </tr>\n",
              "    <tr>\n",
              "      <th>595</th>\n",
              "      <td>3</td>\n",
              "      <td>3</td>\n",
              "      <td>3</td>\n",
              "      <td>1</td>\n",
              "      <td>155</td>\n",
              "      <td>2011-12-22 02:55:00</td>\n",
              "      <td>2011-12-22 05:30:00</td>\n",
              "    </tr>\n",
              "    <tr>\n",
              "      <th>603</th>\n",
              "      <td>8</td>\n",
              "      <td>4</td>\n",
              "      <td>4</td>\n",
              "      <td>8</td>\n",
              "      <td>244</td>\n",
              "      <td>2011-12-22 09:58:00</td>\n",
              "      <td>2011-12-22 14:12:00</td>\n",
              "    </tr>\n",
              "    <tr>\n",
              "      <th>618</th>\n",
              "      <td>1</td>\n",
              "      <td>4</td>\n",
              "      <td>1</td>\n",
              "      <td>6</td>\n",
              "      <td>978</td>\n",
              "      <td>2011-12-23 23:42:00</td>\n",
              "      <td>2011-12-23 16:00:00</td>\n",
              "    </tr>\n",
              "  </tbody>\n",
              "</table>\n",
              "</div>"
            ],
            "text/plain": [
              "     Location  Type  Place  ...  Duration          Start time            End time\n",
              "0           1     4      1  ...       471 2011-11-28 02:27:00 2011-11-28 10:18:00\n",
              "13          8     4      4  ...       134 2011-11-28 10:51:00 2011-11-28 13:05:00\n",
              "28          8     4      4  ...       249 2011-11-28 16:10:00 2011-11-28 20:19:00\n",
              "30          8     4      4  ...       299 2011-11-28 20:45:00 2011-11-29 01:44:00\n",
              "66          1     4      1  ...       525 2011-11-30 01:22:00 2011-11-30 10:07:00\n",
              "102         8     4      4  ...       310 2011-11-30 20:24:00 2011-01-12 01:34:00\n",
              "132         1     4      1  ...       600 2011-02-12 02:15:00 2011-02-12 12:15:00\n",
              "155         8     4      4  ...       235 2011-02-12 21:46:00 2011-03-12 01:41:00\n",
              "156         1     4      1  ...       609 2011-03-12 01:47:00 2011-03-12 11:40:00\n",
              "173         8     4      4  ...       195 2011-03-12 20:38:00 2011-03-12 23:53:00\n",
              "175         8     4      4  ...       201 2011-03-12 23:55:00 2011-04-12 03:16:00\n",
              "234         8     4      4  ...       211 2011-05-12 21:07:00 2011-06-12 00:38:00\n",
              "297         8     4      4  ...       287 2011-07-12 20:45:00 2011-08-12 01:32:00\n",
              "298         1     4      1  ...       575 2011-08-12 01:39:00 2011-08-12 11:14:00\n",
              "343         1     4      1  ...       516 2011-10-12 00:50:00 2011-10-12 09:26:00\n",
              "367         1     4      1  ...       510 2011-11-12 02:28:00 2011-11-12 10:58:00\n",
              "408         1     4      1  ...       595 2011-12-13 02:20:00 2011-12-13 12:15:00\n",
              "436         5     2      3  ...        54 2011-12-14 12:57:00 2011-12-14 13:51:00\n",
              "449         1     4      1  ...       640 2011-12-14 23:42:00 2011-12-15 10:32:00\n",
              "469         1     4      1  ...       540 2011-12-16 00:06:00 2011-12-16 09:06:00\n",
              "495         8     4      4  ...       325 2011-12-17 10:30:00 2011-12-17 15:55:00\n",
              "526         3     3      3  ...        35 2011-12-18 20:50:00 2011-12-18 21:25:00\n",
              "552         1     4      1  ...       455 2011-12-20 23:57:00 2011-12-20 07:32:00\n",
              "554         1     4      1  ...       270 2011-12-20 07:45:00 2011-12-20 12:15:00\n",
              "569         0     3      0  ...       145 2011-12-20 23:51:00 2011-12-21 02:16:00\n",
              "595         3     3      3  ...       155 2011-12-22 02:55:00 2011-12-22 05:30:00\n",
              "603         8     4      4  ...       244 2011-12-22 09:58:00 2011-12-22 14:12:00\n",
              "618         1     4      1  ...       978 2011-12-23 23:42:00 2011-12-23 16:00:00\n",
              "\n",
              "[28 rows x 7 columns]"
            ]
          },
          "metadata": {
            "tags": []
          },
          "execution_count": 63
        }
      ]
    },
    {
      "cell_type": "code",
      "metadata": {
        "colab": {
          "base_uri": "https://localhost:8080/",
          "height": 296
        },
        "id": "Jxqr2q5DnHvh",
        "outputId": "c1c74d28-45c2-4bad-e9a8-b0cf91055f0c"
      },
      "source": [
        "# plot data\n",
        "plt.scatter(x[\"Activity\"], x[\"Duration\"], color = \"b\", s = 50)\n",
        "plt.xlabel(\"Activity\")\n",
        "plt.ylabel(\"Duration (Minutes)\")\n",
        "# plot outlier values\n",
        "plt.scatter(out_values[\"Activity\"], out_values[\"Duration\"], color = \"r\")"
      ],
      "execution_count": null,
      "outputs": [
        {
          "output_type": "execute_result",
          "data": {
            "text/plain": [
              "<matplotlib.collections.PathCollection at 0x7f4d3d094a90>"
            ]
          },
          "metadata": {
            "tags": []
          },
          "execution_count": 66
        },
        {
          "output_type": "display_data",
          "data": {
            "image/png": "[encoded data removed]",
            "text/plain": [
              "<Figure size 432x288 with 1 Axes>"
            ]
          },
          "metadata": {
            "tags": [],
            "needs_background": "light"
          }
        }
      ]
    },
    {
      "cell_type": "markdown",
      "metadata": {
        "id": "IUQoE8EwFLRI"
      },
      "source": [
        "# One Class SVM"
      ]
    },
    {
      "cell_type": "code",
      "metadata": {
        "id": "RVQwifaNFO4o"
      },
      "source": [
        "# model specification\n",
        "SVMmodel = OneClassSVM(kernel = 'rbf', gamma = 0.001, nu = 0.03).fit(x_trial3)"
      ],
      "execution_count": null,
      "outputs": []
    },
    {
      "cell_type": "code",
      "metadata": {
        "colab": {
          "base_uri": "https://localhost:8080/",
          "height": 1000
        },
        "id": "0nAcwdaDMDHQ",
        "outputId": "57b57cb5-92d0-4817-d2e1-7552c55836ec"
      },
      "source": [
        "# prediction\n",
        "y_predicted = SVMmodel.predict(x_trial3)\n",
        "# filter outlier index\n",
        "outl_index2 = where(y_predicted == -1) # filter outlier values\n",
        "outl_values = x.iloc[outl_index2]\n",
        "outl_values"
      ],
      "execution_count": null,
      "outputs": [
        {
          "output_type": "execute_result",
          "data": {
            "text/html": [
              "<div>\n",
              "<style scoped>\n",
              "    .dataframe tbody tr th:only-of-type {\n",
              "        vertical-align: middle;\n",
              "    }\n",
              "\n",
              "    .dataframe tbody tr th {\n",
              "        vertical-align: top;\n",
              "    }\n",
              "\n",
              "    .dataframe thead th {\n",
              "        text-align: right;\n",
              "    }\n",
              "</style>\n",
              "<table border=\"1\" class=\"dataframe\">\n",
              "  <thead>\n",
              "    <tr style=\"text-align: right;\">\n",
              "      <th></th>\n",
              "      <th>Location</th>\n",
              "      <th>Type</th>\n",
              "      <th>Place</th>\n",
              "      <th>Activity</th>\n",
              "      <th>Duration</th>\n",
              "      <th>Start time</th>\n",
              "      <th>End time</th>\n",
              "    </tr>\n",
              "  </thead>\n",
              "  <tbody>\n",
              "    <tr>\n",
              "      <th>0</th>\n",
              "      <td>1</td>\n",
              "      <td>4</td>\n",
              "      <td>1</td>\n",
              "      <td>6</td>\n",
              "      <td>471</td>\n",
              "      <td>2011-11-28 02:27:00</td>\n",
              "      <td>2011-11-28 10:18:00</td>\n",
              "    </tr>\n",
              "    <tr>\n",
              "      <th>28</th>\n",
              "      <td>8</td>\n",
              "      <td>4</td>\n",
              "      <td>4</td>\n",
              "      <td>8</td>\n",
              "      <td>249</td>\n",
              "      <td>2011-11-28 16:10:00</td>\n",
              "      <td>2011-11-28 20:19:00</td>\n",
              "    </tr>\n",
              "    <tr>\n",
              "      <th>102</th>\n",
              "      <td>8</td>\n",
              "      <td>4</td>\n",
              "      <td>4</td>\n",
              "      <td>8</td>\n",
              "      <td>310</td>\n",
              "      <td>2011-11-30 20:24:00</td>\n",
              "      <td>2011-01-12 01:34:00</td>\n",
              "    </tr>\n",
              "    <tr>\n",
              "      <th>103</th>\n",
              "      <td>1</td>\n",
              "      <td>4</td>\n",
              "      <td>1</td>\n",
              "      <td>6</td>\n",
              "      <td>553</td>\n",
              "      <td>2011-01-12 01:37:00</td>\n",
              "      <td>2011-01-12 10:50:00</td>\n",
              "    </tr>\n",
              "    <tr>\n",
              "      <th>112</th>\n",
              "      <td>8</td>\n",
              "      <td>4</td>\n",
              "      <td>4</td>\n",
              "      <td>8</td>\n",
              "      <td>179</td>\n",
              "      <td>2011-01-12 11:30:00</td>\n",
              "      <td>2011-01-12 14:29:00</td>\n",
              "    </tr>\n",
              "    <tr>\n",
              "      <th>141</th>\n",
              "      <td>8</td>\n",
              "      <td>4</td>\n",
              "      <td>4</td>\n",
              "      <td>8</td>\n",
              "      <td>129</td>\n",
              "      <td>2011-02-12 12:37:00</td>\n",
              "      <td>2011-02-12 14:46:00</td>\n",
              "    </tr>\n",
              "    <tr>\n",
              "      <th>156</th>\n",
              "      <td>1</td>\n",
              "      <td>4</td>\n",
              "      <td>1</td>\n",
              "      <td>6</td>\n",
              "      <td>609</td>\n",
              "      <td>2011-03-12 01:47:00</td>\n",
              "      <td>2011-03-12 11:40:00</td>\n",
              "    </tr>\n",
              "    <tr>\n",
              "      <th>196</th>\n",
              "      <td>8</td>\n",
              "      <td>4</td>\n",
              "      <td>4</td>\n",
              "      <td>8</td>\n",
              "      <td>180</td>\n",
              "      <td>2011-04-12 22:00:00</td>\n",
              "      <td>2011-04-12 01:00:00</td>\n",
              "    </tr>\n",
              "    <tr>\n",
              "      <th>234</th>\n",
              "      <td>8</td>\n",
              "      <td>4</td>\n",
              "      <td>4</td>\n",
              "      <td>8</td>\n",
              "      <td>211</td>\n",
              "      <td>2011-05-12 21:07:00</td>\n",
              "      <td>2011-06-12 00:38:00</td>\n",
              "    </tr>\n",
              "    <tr>\n",
              "      <th>247</th>\n",
              "      <td>8</td>\n",
              "      <td>4</td>\n",
              "      <td>4</td>\n",
              "      <td>8</td>\n",
              "      <td>178</td>\n",
              "      <td>2011-06-12 11:39:00</td>\n",
              "      <td>2011-06-12 14:37:00</td>\n",
              "    </tr>\n",
              "    <tr>\n",
              "      <th>297</th>\n",
              "      <td>8</td>\n",
              "      <td>4</td>\n",
              "      <td>4</td>\n",
              "      <td>8</td>\n",
              "      <td>287</td>\n",
              "      <td>2011-07-12 20:45:00</td>\n",
              "      <td>2011-08-12 01:32:00</td>\n",
              "    </tr>\n",
              "    <tr>\n",
              "      <th>298</th>\n",
              "      <td>1</td>\n",
              "      <td>4</td>\n",
              "      <td>1</td>\n",
              "      <td>6</td>\n",
              "      <td>575</td>\n",
              "      <td>2011-08-12 01:39:00</td>\n",
              "      <td>2011-08-12 11:14:00</td>\n",
              "    </tr>\n",
              "    <tr>\n",
              "      <th>308</th>\n",
              "      <td>8</td>\n",
              "      <td>4</td>\n",
              "      <td>4</td>\n",
              "      <td>8</td>\n",
              "      <td>125</td>\n",
              "      <td>2011-08-12 11:36:00</td>\n",
              "      <td>2011-08-12 13:41:00</td>\n",
              "    </tr>\n",
              "    <tr>\n",
              "      <th>314</th>\n",
              "      <td>8</td>\n",
              "      <td>4</td>\n",
              "      <td>4</td>\n",
              "      <td>8</td>\n",
              "      <td>178</td>\n",
              "      <td>2011-08-12 19:12:00</td>\n",
              "      <td>2011-08-12 22:10:00</td>\n",
              "    </tr>\n",
              "    <tr>\n",
              "      <th>361</th>\n",
              "      <td>8</td>\n",
              "      <td>4</td>\n",
              "      <td>4</td>\n",
              "      <td>8</td>\n",
              "      <td>183</td>\n",
              "      <td>2011-10-12 17:13:00</td>\n",
              "      <td>2011-10-12 20:16:00</td>\n",
              "    </tr>\n",
              "    <tr>\n",
              "      <th>367</th>\n",
              "      <td>1</td>\n",
              "      <td>4</td>\n",
              "      <td>1</td>\n",
              "      <td>6</td>\n",
              "      <td>510</td>\n",
              "      <td>2011-11-12 02:28:00</td>\n",
              "      <td>2011-11-12 10:58:00</td>\n",
              "    </tr>\n",
              "    <tr>\n",
              "      <th>383</th>\n",
              "      <td>8</td>\n",
              "      <td>4</td>\n",
              "      <td>4</td>\n",
              "      <td>8</td>\n",
              "      <td>219</td>\n",
              "      <td>2011-11-12 15:43:00</td>\n",
              "      <td>2011-11-12 19:22:00</td>\n",
              "    </tr>\n",
              "    <tr>\n",
              "      <th>394</th>\n",
              "      <td>8</td>\n",
              "      <td>4</td>\n",
              "      <td>4</td>\n",
              "      <td>8</td>\n",
              "      <td>216</td>\n",
              "      <td>2011-12-12 12:47:00</td>\n",
              "      <td>2011-12-12 16:23:00</td>\n",
              "    </tr>\n",
              "    <tr>\n",
              "      <th>401</th>\n",
              "      <td>8</td>\n",
              "      <td>4</td>\n",
              "      <td>4</td>\n",
              "      <td>8</td>\n",
              "      <td>182</td>\n",
              "      <td>2011-12-12 16:48:00</td>\n",
              "      <td>2011-12-12 19:50:00</td>\n",
              "    </tr>\n",
              "    <tr>\n",
              "      <th>414</th>\n",
              "      <td>8</td>\n",
              "      <td>4</td>\n",
              "      <td>4</td>\n",
              "      <td>8</td>\n",
              "      <td>129</td>\n",
              "      <td>2011-12-13 12:37:00</td>\n",
              "      <td>2011-12-13 14:46:00</td>\n",
              "    </tr>\n",
              "    <tr>\n",
              "      <th>425</th>\n",
              "      <td>8</td>\n",
              "      <td>4</td>\n",
              "      <td>4</td>\n",
              "      <td>8</td>\n",
              "      <td>224</td>\n",
              "      <td>2011-12-13 21:57:00</td>\n",
              "      <td>2011-12-14 01:41:00</td>\n",
              "    </tr>\n",
              "    <tr>\n",
              "      <th>437</th>\n",
              "      <td>8</td>\n",
              "      <td>4</td>\n",
              "      <td>4</td>\n",
              "      <td>8</td>\n",
              "      <td>180</td>\n",
              "      <td>2011-12-14 13:52:00</td>\n",
              "      <td>2011-12-14 16:52:00</td>\n",
              "    </tr>\n",
              "    <tr>\n",
              "      <th>448</th>\n",
              "      <td>8</td>\n",
              "      <td>4</td>\n",
              "      <td>4</td>\n",
              "      <td>8</td>\n",
              "      <td>180</td>\n",
              "      <td>2011-12-14 20:40:00</td>\n",
              "      <td>2011-12-14 23:40:00</td>\n",
              "    </tr>\n",
              "    <tr>\n",
              "      <th>449</th>\n",
              "      <td>1</td>\n",
              "      <td>4</td>\n",
              "      <td>1</td>\n",
              "      <td>6</td>\n",
              "      <td>640</td>\n",
              "      <td>2011-12-14 23:42:00</td>\n",
              "      <td>2011-12-15 10:32:00</td>\n",
              "    </tr>\n",
              "    <tr>\n",
              "      <th>495</th>\n",
              "      <td>8</td>\n",
              "      <td>4</td>\n",
              "      <td>4</td>\n",
              "      <td>8</td>\n",
              "      <td>325</td>\n",
              "      <td>2011-12-17 10:30:00</td>\n",
              "      <td>2011-12-17 15:55:00</td>\n",
              "    </tr>\n",
              "    <tr>\n",
              "      <th>516</th>\n",
              "      <td>8</td>\n",
              "      <td>4</td>\n",
              "      <td>4</td>\n",
              "      <td>8</td>\n",
              "      <td>180</td>\n",
              "      <td>2011-12-18 11:47:00</td>\n",
              "      <td>2011-12-18 14:47:00</td>\n",
              "    </tr>\n",
              "    <tr>\n",
              "      <th>541</th>\n",
              "      <td>8</td>\n",
              "      <td>4</td>\n",
              "      <td>4</td>\n",
              "      <td>8</td>\n",
              "      <td>184</td>\n",
              "      <td>2011-12-19 15:45:00</td>\n",
              "      <td>2011-12-19 18:49:00</td>\n",
              "    </tr>\n",
              "    <tr>\n",
              "      <th>552</th>\n",
              "      <td>1</td>\n",
              "      <td>4</td>\n",
              "      <td>1</td>\n",
              "      <td>6</td>\n",
              "      <td>455</td>\n",
              "      <td>2011-12-20 23:57:00</td>\n",
              "      <td>2011-12-20 07:32:00</td>\n",
              "    </tr>\n",
              "    <tr>\n",
              "      <th>565</th>\n",
              "      <td>8</td>\n",
              "      <td>4</td>\n",
              "      <td>4</td>\n",
              "      <td>8</td>\n",
              "      <td>220</td>\n",
              "      <td>2011-12-20 15:59:00</td>\n",
              "      <td>2011-12-20 19:39:00</td>\n",
              "    </tr>\n",
              "    <tr>\n",
              "      <th>571</th>\n",
              "      <td>11</td>\n",
              "      <td>1</td>\n",
              "      <td>0</td>\n",
              "      <td>9</td>\n",
              "      <td>109</td>\n",
              "      <td>2011-12-21 02:46:00</td>\n",
              "      <td>2011-12-21 04:35:00</td>\n",
              "    </tr>\n",
              "    <tr>\n",
              "      <th>595</th>\n",
              "      <td>3</td>\n",
              "      <td>3</td>\n",
              "      <td>3</td>\n",
              "      <td>1</td>\n",
              "      <td>155</td>\n",
              "      <td>2011-12-22 02:55:00</td>\n",
              "      <td>2011-12-22 05:30:00</td>\n",
              "    </tr>\n",
              "    <tr>\n",
              "      <th>603</th>\n",
              "      <td>8</td>\n",
              "      <td>4</td>\n",
              "      <td>4</td>\n",
              "      <td>8</td>\n",
              "      <td>244</td>\n",
              "      <td>2011-12-22 09:58:00</td>\n",
              "      <td>2011-12-22 14:12:00</td>\n",
              "    </tr>\n",
              "    <tr>\n",
              "      <th>604</th>\n",
              "      <td>5</td>\n",
              "      <td>2</td>\n",
              "      <td>3</td>\n",
              "      <td>4</td>\n",
              "      <td>100</td>\n",
              "      <td>2011-12-22 14:14:00</td>\n",
              "      <td>2011-12-22 15:30:00</td>\n",
              "    </tr>\n",
              "    <tr>\n",
              "      <th>618</th>\n",
              "      <td>1</td>\n",
              "      <td>4</td>\n",
              "      <td>1</td>\n",
              "      <td>6</td>\n",
              "      <td>978</td>\n",
              "      <td>2011-12-23 23:42:00</td>\n",
              "      <td>2011-12-23 16:00:00</td>\n",
              "    </tr>\n",
              "  </tbody>\n",
              "</table>\n",
              "</div>"
            ],
            "text/plain": [
              "     Location  Type  Place  ...  Duration          Start time            End time\n",
              "0           1     4      1  ...       471 2011-11-28 02:27:00 2011-11-28 10:18:00\n",
              "28          8     4      4  ...       249 2011-11-28 16:10:00 2011-11-28 20:19:00\n",
              "102         8     4      4  ...       310 2011-11-30 20:24:00 2011-01-12 01:34:00\n",
              "103         1     4      1  ...       553 2011-01-12 01:37:00 2011-01-12 10:50:00\n",
              "112         8     4      4  ...       179 2011-01-12 11:30:00 2011-01-12 14:29:00\n",
              "141         8     4      4  ...       129 2011-02-12 12:37:00 2011-02-12 14:46:00\n",
              "156         1     4      1  ...       609 2011-03-12 01:47:00 2011-03-12 11:40:00\n",
              "196         8     4      4  ...       180 2011-04-12 22:00:00 2011-04-12 01:00:00\n",
              "234         8     4      4  ...       211 2011-05-12 21:07:00 2011-06-12 00:38:00\n",
              "247         8     4      4  ...       178 2011-06-12 11:39:00 2011-06-12 14:37:00\n",
              "297         8     4      4  ...       287 2011-07-12 20:45:00 2011-08-12 01:32:00\n",
              "298         1     4      1  ...       575 2011-08-12 01:39:00 2011-08-12 11:14:00\n",
              "308         8     4      4  ...       125 2011-08-12 11:36:00 2011-08-12 13:41:00\n",
              "314         8     4      4  ...       178 2011-08-12 19:12:00 2011-08-12 22:10:00\n",
              "361         8     4      4  ...       183 2011-10-12 17:13:00 2011-10-12 20:16:00\n",
              "367         1     4      1  ...       510 2011-11-12 02:28:00 2011-11-12 10:58:00\n",
              "383         8     4      4  ...       219 2011-11-12 15:43:00 2011-11-12 19:22:00\n",
              "394         8     4      4  ...       216 2011-12-12 12:47:00 2011-12-12 16:23:00\n",
              "401         8     4      4  ...       182 2011-12-12 16:48:00 2011-12-12 19:50:00\n",
              "414         8     4      4  ...       129 2011-12-13 12:37:00 2011-12-13 14:46:00\n",
              "425         8     4      4  ...       224 2011-12-13 21:57:00 2011-12-14 01:41:00\n",
              "437         8     4      4  ...       180 2011-12-14 13:52:00 2011-12-14 16:52:00\n",
              "448         8     4      4  ...       180 2011-12-14 20:40:00 2011-12-14 23:40:00\n",
              "449         1     4      1  ...       640 2011-12-14 23:42:00 2011-12-15 10:32:00\n",
              "495         8     4      4  ...       325 2011-12-17 10:30:00 2011-12-17 15:55:00\n",
              "516         8     4      4  ...       180 2011-12-18 11:47:00 2011-12-18 14:47:00\n",
              "541         8     4      4  ...       184 2011-12-19 15:45:00 2011-12-19 18:49:00\n",
              "552         1     4      1  ...       455 2011-12-20 23:57:00 2011-12-20 07:32:00\n",
              "565         8     4      4  ...       220 2011-12-20 15:59:00 2011-12-20 19:39:00\n",
              "571        11     1      0  ...       109 2011-12-21 02:46:00 2011-12-21 04:35:00\n",
              "595         3     3      3  ...       155 2011-12-22 02:55:00 2011-12-22 05:30:00\n",
              "603         8     4      4  ...       244 2011-12-22 09:58:00 2011-12-22 14:12:00\n",
              "604         5     2      3  ...       100 2011-12-22 14:14:00 2011-12-22 15:30:00\n",
              "618         1     4      1  ...       978 2011-12-23 23:42:00 2011-12-23 16:00:00\n",
              "\n",
              "[34 rows x 7 columns]"
            ]
          },
          "metadata": {
            "tags": []
          },
          "execution_count": 68
        }
      ]
    },
    {
      "cell_type": "code",
      "metadata": {
        "id": "5l2Keg82MDnc",
        "colab": {
          "base_uri": "https://localhost:8080/",
          "height": 282
        },
        "outputId": "e03ad0bc-2352-4294-aa47-b1128661c8dd"
      },
      "source": [
        "# visualize outputs\n",
        "plt.scatter(x[\"Activity\"], x[\"Duration\"])\n",
        "plt.scatter(outl_values[\"Activity\"], outl_values[\"Duration\"], c = \"r\")"
      ],
      "execution_count": null,
      "outputs": [
        {
          "output_type": "execute_result",
          "data": {
            "text/plain": [
              "<matplotlib.collections.PathCollection at 0x7f4d3cdb2450>"
            ]
          },
          "metadata": {
            "tags": []
          },
          "execution_count": 69
        },
        {
          "output_type": "display_data",
          "data": {
            "image/png": "[encoded data removed]",
            "text/plain": [
              "<Figure size 432x288 with 1 Axes>"
            ]
          },
          "metadata": {
            "tags": [],
            "needs_background": "light"
          }
        }
      ]
    },
    {
      "cell_type": "markdown",
      "metadata": {
        "id": "lSV4ABbbO8k7"
      },
      "source": [
        "# Local outlier Factor"
      ]
    },
    {
      "cell_type": "code",
      "metadata": {
        "colab": {
          "base_uri": "https://localhost:8080/",
          "height": 265
        },
        "id": "cXvZt0C9PLOv",
        "outputId": "5957bd10-3cbe-4acf-9dc2-d9d5111d1d64"
      },
      "source": [
        "# I am plotting data points\n",
        "plt.scatter(x[\"Activity\"], x[\"Duration\"], color = \"b\", s = 65)\n",
        "plt.grid()"
      ],
      "execution_count": null,
      "outputs": [
        {
          "output_type": "display_data",
          "data": {
            "image/png": "[encoded data removed]",
            "text/plain": [
              "<Figure size 432x288 with 1 Axes>"
            ]
          },
          "metadata": {
            "tags": [],
            "needs_background": "light"
          }
        }
      ]
    },
    {
      "cell_type": "code",
      "metadata": {
        "colab": {
          "base_uri": "https://localhost:8080/",
          "height": 282
        },
        "id": "vu37X1Tpon58",
        "outputId": "823e4831-8dd1-4a93-8391-14b951742429"
      },
      "source": [
        "# Here I start model spec\n",
        "model1 = LocalOutlierFactor(n_neighbors = 1, metric = \"manhattan\", contamination = 0.01)\n",
        "# model fitting\n",
        "y_pred = model1.fit_predict(x_trial3)\n",
        "# filtering the outlier index\n",
        "outlier_index = where(y_pred == -1) # negative values are outliers and positives inliers\n",
        "# filter the outlier values\n",
        "outlier_values = x.iloc[outlier_index]\n",
        "# plot data\n",
        "plt.scatter(x[\"Activity\"], x[\"Duration\"], color = \"b\", s = 65)\n",
        "# plot outlier values\n",
        "plt.scatter(outlier_values[\"Activity\"], outlier_values[\"Duration\"], color = \"r\")"
      ],
      "execution_count": null,
      "outputs": [
        {
          "output_type": "execute_result",
          "data": {
            "text/plain": [
              "<matplotlib.collections.PathCollection at 0x7f4d3ce9c290>"
            ]
          },
          "metadata": {
            "tags": []
          },
          "execution_count": 71
        },
        {
          "output_type": "display_data",
          "data": {
            "image/png": "[encoded data removed]",
            "text/plain": [
              "<Figure size 432x288 with 1 Axes>"
            ]
          },
          "metadata": {
            "tags": [],
            "needs_background": "light"
          }
        }
      ]
    },
    {
      "cell_type": "markdown",
      "metadata": {
        "id": "j71ApjeyaW_r"
      },
      "source": [
        "# Isolation Forest "
      ]
    },
    {
      "cell_type": "code",
      "metadata": {
        "id": "qWvRPmgJY78N"
      },
      "source": [
        "# libraries\n",
        "import pandas as pd\n",
        "import numpy as np\n",
        "import matplotlib.pyplot as plt\n",
        "from sklearn.ensemble import IsolationForest"
      ],
      "execution_count": null,
      "outputs": []
    },
    {
      "cell_type": "code",
      "metadata": {
        "colab": {
          "base_uri": "https://localhost:8080/"
        },
        "id": "UaaXYi-lWMOp",
        "outputId": "9483b191-b599-4f09-e6bb-e7572bae43b2"
      },
      "source": [
        "# using just numpy array for visualization\n",
        "plt.scatter(X[\"Activity\"], X[\"Duration\"], color = \"b\", s = 30)\n",
        "plt.grid"
      ],
      "execution_count": null,
      "outputs": [
        {
          "output_type": "execute_result",
          "data": {
            "text/plain": [
              "<function matplotlib.pyplot.grid>"
            ]
          },
          "metadata": {
            "tags": []
          },
          "execution_count": 77
        },
        {
          "output_type": "display_data",
          "data": {
            "image/png": "[encoded data removed]",
            "text/plain": [
              "<Figure size 432x288 with 1 Axes>"
            ]
          },
          "metadata": {
            "tags": [],
            "needs_background": "light"
          }
        }
      ]
    },
    {
      "cell_type": "code",
      "metadata": {
        "colab": {
          "base_uri": "https://localhost:8080/"
        },
        "id": "z_Go4ENDXARm",
        "outputId": "1f3719d2-b5b8-4cb3-9f55-b99846ebe80a"
      },
      "source": [
        "# instantiate model\n",
        "modelIS = IsolationForest(n_estimators = 10)\n",
        "# fit model\n",
        "modelIS.fit(X)"
      ],
      "execution_count": null,
      "outputs": [
        {
          "output_type": "execute_result",
          "data": {
            "text/plain": [
              "IsolationForest(behaviour='deprecated', bootstrap=False, contamination='auto',\n",
              "                max_features=1.0, max_samples='auto', n_estimators=10,\n",
              "                n_jobs=None, random_state=None, verbose=0, warm_start=False)"
            ]
          },
          "metadata": {
            "tags": []
          },
          "execution_count": 78
        }
      ]
    },
    {
      "cell_type": "code",
      "metadata": {
        "id": "Iiy6Lbk_iazO"
      },
      "source": [
        ""
      ],
      "execution_count": null,
      "outputs": []
    },
    {
      "cell_type": "code",
      "metadata": {
        "id": "4EunDowjia9P"
      },
      "source": [
        ""
      ],
      "execution_count": null,
      "outputs": []
    },
    {
      "cell_type": "markdown",
      "metadata": {
        "id": "TVDJdywaG2UH"
      },
      "source": [
        "# Evaluation"
      ]
    },
    {
      "cell_type": "markdown",
      "metadata": {
        "id": "ucyLlh4BMUWr"
      },
      "source": [
        "None of the 11 algorithms I wrote about so far is good or better in an absolute sense, it all comes down to the nature of the dataset and the domain it is coming from. Often a simple statistical algorithm (e.g. boxplot) is good enough to filter possible candidates and in other cases, a sophisticated algorithm can be useless."
      ]
    },
    {
      "cell_type": "markdown",
      "metadata": {
        "id": "aVKTGTaO2Kil"
      },
      "source": [
        "For Evaluation Purposes: We compare the detected outliers wi the actual outliers for Each implemented algorithm"
      ]
    },
    {
      "cell_type": "code",
      "metadata": {
        "colab": {
          "base_uri": "https://localhost:8080/",
          "height": 917
        },
        "id": "pyjfcRJ12xk5",
        "outputId": "a12ded93-11fc-4f86-98d0-de6bb87a3dd4"
      },
      "source": [
        "mergedKNN = out_values.merge(y, left_index=True, right_index=True, how='inner')\n",
        "mergedKNN"
      ],
      "execution_count": null,
      "outputs": [
        {
          "output_type": "execute_result",
          "data": {
            "text/html": [
              "<div>\n",
              "<style scoped>\n",
              "    .dataframe tbody tr th:only-of-type {\n",
              "        vertical-align: middle;\n",
              "    }\n",
              "\n",
              "    .dataframe tbody tr th {\n",
              "        vertical-align: top;\n",
              "    }\n",
              "\n",
              "    .dataframe thead th {\n",
              "        text-align: right;\n",
              "    }\n",
              "</style>\n",
              "<table border=\"1\" class=\"dataframe\">\n",
              "  <thead>\n",
              "    <tr style=\"text-align: right;\">\n",
              "      <th></th>\n",
              "      <th>Location</th>\n",
              "      <th>Type</th>\n",
              "      <th>Place</th>\n",
              "      <th>Activity</th>\n",
              "      <th>Duration</th>\n",
              "      <th>Start time</th>\n",
              "      <th>End time</th>\n",
              "      <th>Anomaly</th>\n",
              "    </tr>\n",
              "  </thead>\n",
              "  <tbody>\n",
              "    <tr>\n",
              "      <th>0</th>\n",
              "      <td>1</td>\n",
              "      <td>4</td>\n",
              "      <td>1</td>\n",
              "      <td>6</td>\n",
              "      <td>471</td>\n",
              "      <td>2011-11-28 02:27:00</td>\n",
              "      <td>2011-11-28 10:18:00</td>\n",
              "      <td>0</td>\n",
              "    </tr>\n",
              "    <tr>\n",
              "      <th>13</th>\n",
              "      <td>8</td>\n",
              "      <td>4</td>\n",
              "      <td>4</td>\n",
              "      <td>8</td>\n",
              "      <td>134</td>\n",
              "      <td>2011-11-28 10:51:00</td>\n",
              "      <td>2011-11-28 13:05:00</td>\n",
              "      <td>0</td>\n",
              "    </tr>\n",
              "    <tr>\n",
              "      <th>28</th>\n",
              "      <td>8</td>\n",
              "      <td>4</td>\n",
              "      <td>4</td>\n",
              "      <td>8</td>\n",
              "      <td>249</td>\n",
              "      <td>2011-11-28 16:10:00</td>\n",
              "      <td>2011-11-28 20:19:00</td>\n",
              "      <td>0</td>\n",
              "    </tr>\n",
              "    <tr>\n",
              "      <th>30</th>\n",
              "      <td>8</td>\n",
              "      <td>4</td>\n",
              "      <td>4</td>\n",
              "      <td>8</td>\n",
              "      <td>299</td>\n",
              "      <td>2011-11-28 20:45:00</td>\n",
              "      <td>2011-11-29 01:44:00</td>\n",
              "      <td>0</td>\n",
              "    </tr>\n",
              "    <tr>\n",
              "      <th>66</th>\n",
              "      <td>1</td>\n",
              "      <td>4</td>\n",
              "      <td>1</td>\n",
              "      <td>6</td>\n",
              "      <td>525</td>\n",
              "      <td>2011-11-30 01:22:00</td>\n",
              "      <td>2011-11-30 10:07:00</td>\n",
              "      <td>0</td>\n",
              "    </tr>\n",
              "    <tr>\n",
              "      <th>102</th>\n",
              "      <td>8</td>\n",
              "      <td>4</td>\n",
              "      <td>4</td>\n",
              "      <td>8</td>\n",
              "      <td>310</td>\n",
              "      <td>2011-11-30 20:24:00</td>\n",
              "      <td>2011-01-12 01:34:00</td>\n",
              "      <td>1</td>\n",
              "    </tr>\n",
              "    <tr>\n",
              "      <th>132</th>\n",
              "      <td>1</td>\n",
              "      <td>4</td>\n",
              "      <td>1</td>\n",
              "      <td>6</td>\n",
              "      <td>600</td>\n",
              "      <td>2011-02-12 02:15:00</td>\n",
              "      <td>2011-02-12 12:15:00</td>\n",
              "      <td>0</td>\n",
              "    </tr>\n",
              "    <tr>\n",
              "      <th>155</th>\n",
              "      <td>8</td>\n",
              "      <td>4</td>\n",
              "      <td>4</td>\n",
              "      <td>8</td>\n",
              "      <td>235</td>\n",
              "      <td>2011-02-12 21:46:00</td>\n",
              "      <td>2011-03-12 01:41:00</td>\n",
              "      <td>0</td>\n",
              "    </tr>\n",
              "    <tr>\n",
              "      <th>156</th>\n",
              "      <td>1</td>\n",
              "      <td>4</td>\n",
              "      <td>1</td>\n",
              "      <td>6</td>\n",
              "      <td>609</td>\n",
              "      <td>2011-03-12 01:47:00</td>\n",
              "      <td>2011-03-12 11:40:00</td>\n",
              "      <td>0</td>\n",
              "    </tr>\n",
              "    <tr>\n",
              "      <th>173</th>\n",
              "      <td>8</td>\n",
              "      <td>4</td>\n",
              "      <td>4</td>\n",
              "      <td>8</td>\n",
              "      <td>195</td>\n",
              "      <td>2011-03-12 20:38:00</td>\n",
              "      <td>2011-03-12 23:53:00</td>\n",
              "      <td>0</td>\n",
              "    </tr>\n",
              "    <tr>\n",
              "      <th>175</th>\n",
              "      <td>8</td>\n",
              "      <td>4</td>\n",
              "      <td>4</td>\n",
              "      <td>8</td>\n",
              "      <td>201</td>\n",
              "      <td>2011-03-12 23:55:00</td>\n",
              "      <td>2011-04-12 03:16:00</td>\n",
              "      <td>0</td>\n",
              "    </tr>\n",
              "    <tr>\n",
              "      <th>234</th>\n",
              "      <td>8</td>\n",
              "      <td>4</td>\n",
              "      <td>4</td>\n",
              "      <td>8</td>\n",
              "      <td>211</td>\n",
              "      <td>2011-05-12 21:07:00</td>\n",
              "      <td>2011-06-12 00:38:00</td>\n",
              "      <td>0</td>\n",
              "    </tr>\n",
              "    <tr>\n",
              "      <th>297</th>\n",
              "      <td>8</td>\n",
              "      <td>4</td>\n",
              "      <td>4</td>\n",
              "      <td>8</td>\n",
              "      <td>287</td>\n",
              "      <td>2011-07-12 20:45:00</td>\n",
              "      <td>2011-08-12 01:32:00</td>\n",
              "      <td>0</td>\n",
              "    </tr>\n",
              "    <tr>\n",
              "      <th>298</th>\n",
              "      <td>1</td>\n",
              "      <td>4</td>\n",
              "      <td>1</td>\n",
              "      <td>6</td>\n",
              "      <td>575</td>\n",
              "      <td>2011-08-12 01:39:00</td>\n",
              "      <td>2011-08-12 11:14:00</td>\n",
              "      <td>0</td>\n",
              "    </tr>\n",
              "    <tr>\n",
              "      <th>343</th>\n",
              "      <td>1</td>\n",
              "      <td>4</td>\n",
              "      <td>1</td>\n",
              "      <td>6</td>\n",
              "      <td>516</td>\n",
              "      <td>2011-10-12 00:50:00</td>\n",
              "      <td>2011-10-12 09:26:00</td>\n",
              "      <td>0</td>\n",
              "    </tr>\n",
              "    <tr>\n",
              "      <th>367</th>\n",
              "      <td>1</td>\n",
              "      <td>4</td>\n",
              "      <td>1</td>\n",
              "      <td>6</td>\n",
              "      <td>510</td>\n",
              "      <td>2011-11-12 02:28:00</td>\n",
              "      <td>2011-11-12 10:58:00</td>\n",
              "      <td>0</td>\n",
              "    </tr>\n",
              "    <tr>\n",
              "      <th>408</th>\n",
              "      <td>1</td>\n",
              "      <td>4</td>\n",
              "      <td>1</td>\n",
              "      <td>6</td>\n",
              "      <td>595</td>\n",
              "      <td>2011-12-13 02:20:00</td>\n",
              "      <td>2011-12-13 12:15:00</td>\n",
              "      <td>0</td>\n",
              "    </tr>\n",
              "    <tr>\n",
              "      <th>436</th>\n",
              "      <td>5</td>\n",
              "      <td>2</td>\n",
              "      <td>3</td>\n",
              "      <td>4</td>\n",
              "      <td>54</td>\n",
              "      <td>2011-12-14 12:57:00</td>\n",
              "      <td>2011-12-14 13:51:00</td>\n",
              "      <td>0</td>\n",
              "    </tr>\n",
              "    <tr>\n",
              "      <th>449</th>\n",
              "      <td>1</td>\n",
              "      <td>4</td>\n",
              "      <td>1</td>\n",
              "      <td>6</td>\n",
              "      <td>640</td>\n",
              "      <td>2011-12-14 23:42:00</td>\n",
              "      <td>2011-12-15 10:32:00</td>\n",
              "      <td>0</td>\n",
              "    </tr>\n",
              "    <tr>\n",
              "      <th>469</th>\n",
              "      <td>1</td>\n",
              "      <td>4</td>\n",
              "      <td>1</td>\n",
              "      <td>6</td>\n",
              "      <td>540</td>\n",
              "      <td>2011-12-16 00:06:00</td>\n",
              "      <td>2011-12-16 09:06:00</td>\n",
              "      <td>0</td>\n",
              "    </tr>\n",
              "    <tr>\n",
              "      <th>495</th>\n",
              "      <td>8</td>\n",
              "      <td>4</td>\n",
              "      <td>4</td>\n",
              "      <td>8</td>\n",
              "      <td>325</td>\n",
              "      <td>2011-12-17 10:30:00</td>\n",
              "      <td>2011-12-17 15:55:00</td>\n",
              "      <td>0</td>\n",
              "    </tr>\n",
              "    <tr>\n",
              "      <th>526</th>\n",
              "      <td>3</td>\n",
              "      <td>3</td>\n",
              "      <td>3</td>\n",
              "      <td>1</td>\n",
              "      <td>35</td>\n",
              "      <td>2011-12-18 20:50:00</td>\n",
              "      <td>2011-12-18 21:25:00</td>\n",
              "      <td>0</td>\n",
              "    </tr>\n",
              "    <tr>\n",
              "      <th>552</th>\n",
              "      <td>1</td>\n",
              "      <td>4</td>\n",
              "      <td>1</td>\n",
              "      <td>6</td>\n",
              "      <td>455</td>\n",
              "      <td>2011-12-20 23:57:00</td>\n",
              "      <td>2011-12-20 07:32:00</td>\n",
              "      <td>0</td>\n",
              "    </tr>\n",
              "    <tr>\n",
              "      <th>554</th>\n",
              "      <td>1</td>\n",
              "      <td>4</td>\n",
              "      <td>1</td>\n",
              "      <td>6</td>\n",
              "      <td>270</td>\n",
              "      <td>2011-12-20 07:45:00</td>\n",
              "      <td>2011-12-20 12:15:00</td>\n",
              "      <td>0</td>\n",
              "    </tr>\n",
              "    <tr>\n",
              "      <th>569</th>\n",
              "      <td>0</td>\n",
              "      <td>3</td>\n",
              "      <td>0</td>\n",
              "      <td>2</td>\n",
              "      <td>145</td>\n",
              "      <td>2011-12-20 23:51:00</td>\n",
              "      <td>2011-12-21 02:16:00</td>\n",
              "      <td>1</td>\n",
              "    </tr>\n",
              "    <tr>\n",
              "      <th>595</th>\n",
              "      <td>3</td>\n",
              "      <td>3</td>\n",
              "      <td>3</td>\n",
              "      <td>1</td>\n",
              "      <td>155</td>\n",
              "      <td>2011-12-22 02:55:00</td>\n",
              "      <td>2011-12-22 05:30:00</td>\n",
              "      <td>1</td>\n",
              "    </tr>\n",
              "    <tr>\n",
              "      <th>603</th>\n",
              "      <td>8</td>\n",
              "      <td>4</td>\n",
              "      <td>4</td>\n",
              "      <td>8</td>\n",
              "      <td>244</td>\n",
              "      <td>2011-12-22 09:58:00</td>\n",
              "      <td>2011-12-22 14:12:00</td>\n",
              "      <td>0</td>\n",
              "    </tr>\n",
              "    <tr>\n",
              "      <th>618</th>\n",
              "      <td>1</td>\n",
              "      <td>4</td>\n",
              "      <td>1</td>\n",
              "      <td>6</td>\n",
              "      <td>978</td>\n",
              "      <td>2011-12-23 23:42:00</td>\n",
              "      <td>2011-12-23 16:00:00</td>\n",
              "      <td>1</td>\n",
              "    </tr>\n",
              "  </tbody>\n",
              "</table>\n",
              "</div>"
            ],
            "text/plain": [
              "     Location  Type  Place  ...          Start time            End time Anomaly\n",
              "0           1     4      1  ... 2011-11-28 02:27:00 2011-11-28 10:18:00       0\n",
              "13          8     4      4  ... 2011-11-28 10:51:00 2011-11-28 13:05:00       0\n",
              "28          8     4      4  ... 2011-11-28 16:10:00 2011-11-28 20:19:00       0\n",
              "30          8     4      4  ... 2011-11-28 20:45:00 2011-11-29 01:44:00       0\n",
              "66          1     4      1  ... 2011-11-30 01:22:00 2011-11-30 10:07:00       0\n",
              "102         8     4      4  ... 2011-11-30 20:24:00 2011-01-12 01:34:00       1\n",
              "132         1     4      1  ... 2011-02-12 02:15:00 2011-02-12 12:15:00       0\n",
              "155         8     4      4  ... 2011-02-12 21:46:00 2011-03-12 01:41:00       0\n",
              "156         1     4      1  ... 2011-03-12 01:47:00 2011-03-12 11:40:00       0\n",
              "173         8     4      4  ... 2011-03-12 20:38:00 2011-03-12 23:53:00       0\n",
              "175         8     4      4  ... 2011-03-12 23:55:00 2011-04-12 03:16:00       0\n",
              "234         8     4      4  ... 2011-05-12 21:07:00 2011-06-12 00:38:00       0\n",
              "297         8     4      4  ... 2011-07-12 20:45:00 2011-08-12 01:32:00       0\n",
              "298         1     4      1  ... 2011-08-12 01:39:00 2011-08-12 11:14:00       0\n",
              "343         1     4      1  ... 2011-10-12 00:50:00 2011-10-12 09:26:00       0\n",
              "367         1     4      1  ... 2011-11-12 02:28:00 2011-11-12 10:58:00       0\n",
              "408         1     4      1  ... 2011-12-13 02:20:00 2011-12-13 12:15:00       0\n",
              "436         5     2      3  ... 2011-12-14 12:57:00 2011-12-14 13:51:00       0\n",
              "449         1     4      1  ... 2011-12-14 23:42:00 2011-12-15 10:32:00       0\n",
              "469         1     4      1  ... 2011-12-16 00:06:00 2011-12-16 09:06:00       0\n",
              "495         8     4      4  ... 2011-12-17 10:30:00 2011-12-17 15:55:00       0\n",
              "526         3     3      3  ... 2011-12-18 20:50:00 2011-12-18 21:25:00       0\n",
              "552         1     4      1  ... 2011-12-20 23:57:00 2011-12-20 07:32:00       0\n",
              "554         1     4      1  ... 2011-12-20 07:45:00 2011-12-20 12:15:00       0\n",
              "569         0     3      0  ... 2011-12-20 23:51:00 2011-12-21 02:16:00       1\n",
              "595         3     3      3  ... 2011-12-22 02:55:00 2011-12-22 05:30:00       1\n",
              "603         8     4      4  ... 2011-12-22 09:58:00 2011-12-22 14:12:00       0\n",
              "618         1     4      1  ... 2011-12-23 23:42:00 2011-12-23 16:00:00       1\n",
              "\n",
              "[28 rows x 8 columns]"
            ]
          },
          "metadata": {
            "tags": []
          },
          "execution_count": 73
        }
      ]
    },
    {
      "cell_type": "code",
      "metadata": {
        "colab": {
          "base_uri": "https://localhost:8080/"
        },
        "id": "bnfLW7Kq3RCT",
        "outputId": "b89bac8e-1614-4501-840c-5a0903bed5d7"
      },
      "source": [
        "mergedKNN.count()"
      ],
      "execution_count": null,
      "outputs": [
        {
          "output_type": "execute_result",
          "data": {
            "text/plain": [
              "Location      28\n",
              "Type          28\n",
              "Place         28\n",
              "Activity      28\n",
              "Duration      28\n",
              "Start time    28\n",
              "End time      28\n",
              "Anomaly       28\n",
              "dtype: int64"
            ]
          },
          "metadata": {
            "tags": []
          },
          "execution_count": 74
        }
      ]
    },
    {
      "cell_type": "code",
      "metadata": {
        "colab": {
          "base_uri": "https://localhost:8080/",
          "height": 1000
        },
        "id": "CdacRmjU2xoG",
        "outputId": "321282f3-27e9-4911-c5ba-c707fc11d88d"
      },
      "source": [
        "mergedOCSVM = outl_values.merge(y, left_index=True, right_index=True, how='inner')\n",
        "mergedOCSVM"
      ],
      "execution_count": null,
      "outputs": [
        {
          "output_type": "execute_result",
          "data": {
            "text/html": [
              "<div>\n",
              "<style scoped>\n",
              "    .dataframe tbody tr th:only-of-type {\n",
              "        vertical-align: middle;\n",
              "    }\n",
              "\n",
              "    .dataframe tbody tr th {\n",
              "        vertical-align: top;\n",
              "    }\n",
              "\n",
              "    .dataframe thead th {\n",
              "        text-align: right;\n",
              "    }\n",
              "</style>\n",
              "<table border=\"1\" class=\"dataframe\">\n",
              "  <thead>\n",
              "    <tr style=\"text-align: right;\">\n",
              "      <th></th>\n",
              "      <th>Location</th>\n",
              "      <th>Type</th>\n",
              "      <th>Place</th>\n",
              "      <th>Activity</th>\n",
              "      <th>Duration</th>\n",
              "      <th>Start time</th>\n",
              "      <th>End time</th>\n",
              "      <th>Anomaly</th>\n",
              "    </tr>\n",
              "  </thead>\n",
              "  <tbody>\n",
              "    <tr>\n",
              "      <th>0</th>\n",
              "      <td>1</td>\n",
              "      <td>4</td>\n",
              "      <td>1</td>\n",
              "      <td>6</td>\n",
              "      <td>471</td>\n",
              "      <td>2011-11-28 02:27:00</td>\n",
              "      <td>2011-11-28 10:18:00</td>\n",
              "      <td>0</td>\n",
              "    </tr>\n",
              "    <tr>\n",
              "      <th>28</th>\n",
              "      <td>8</td>\n",
              "      <td>4</td>\n",
              "      <td>4</td>\n",
              "      <td>8</td>\n",
              "      <td>249</td>\n",
              "      <td>2011-11-28 16:10:00</td>\n",
              "      <td>2011-11-28 20:19:00</td>\n",
              "      <td>0</td>\n",
              "    </tr>\n",
              "    <tr>\n",
              "      <th>102</th>\n",
              "      <td>8</td>\n",
              "      <td>4</td>\n",
              "      <td>4</td>\n",
              "      <td>8</td>\n",
              "      <td>310</td>\n",
              "      <td>2011-11-30 20:24:00</td>\n",
              "      <td>2011-01-12 01:34:00</td>\n",
              "      <td>1</td>\n",
              "    </tr>\n",
              "    <tr>\n",
              "      <th>103</th>\n",
              "      <td>1</td>\n",
              "      <td>4</td>\n",
              "      <td>1</td>\n",
              "      <td>6</td>\n",
              "      <td>553</td>\n",
              "      <td>2011-01-12 01:37:00</td>\n",
              "      <td>2011-01-12 10:50:00</td>\n",
              "      <td>0</td>\n",
              "    </tr>\n",
              "    <tr>\n",
              "      <th>112</th>\n",
              "      <td>8</td>\n",
              "      <td>4</td>\n",
              "      <td>4</td>\n",
              "      <td>8</td>\n",
              "      <td>179</td>\n",
              "      <td>2011-01-12 11:30:00</td>\n",
              "      <td>2011-01-12 14:29:00</td>\n",
              "      <td>0</td>\n",
              "    </tr>\n",
              "    <tr>\n",
              "      <th>141</th>\n",
              "      <td>8</td>\n",
              "      <td>4</td>\n",
              "      <td>4</td>\n",
              "      <td>8</td>\n",
              "      <td>129</td>\n",
              "      <td>2011-02-12 12:37:00</td>\n",
              "      <td>2011-02-12 14:46:00</td>\n",
              "      <td>0</td>\n",
              "    </tr>\n",
              "    <tr>\n",
              "      <th>156</th>\n",
              "      <td>1</td>\n",
              "      <td>4</td>\n",
              "      <td>1</td>\n",
              "      <td>6</td>\n",
              "      <td>609</td>\n",
              "      <td>2011-03-12 01:47:00</td>\n",
              "      <td>2011-03-12 11:40:00</td>\n",
              "      <td>0</td>\n",
              "    </tr>\n",
              "    <tr>\n",
              "      <th>196</th>\n",
              "      <td>8</td>\n",
              "      <td>4</td>\n",
              "      <td>4</td>\n",
              "      <td>8</td>\n",
              "      <td>180</td>\n",
              "      <td>2011-04-12 22:00:00</td>\n",
              "      <td>2011-04-12 01:00:00</td>\n",
              "      <td>0</td>\n",
              "    </tr>\n",
              "    <tr>\n",
              "      <th>234</th>\n",
              "      <td>8</td>\n",
              "      <td>4</td>\n",
              "      <td>4</td>\n",
              "      <td>8</td>\n",
              "      <td>211</td>\n",
              "      <td>2011-05-12 21:07:00</td>\n",
              "      <td>2011-06-12 00:38:00</td>\n",
              "      <td>0</td>\n",
              "    </tr>\n",
              "    <tr>\n",
              "      <th>247</th>\n",
              "      <td>8</td>\n",
              "      <td>4</td>\n",
              "      <td>4</td>\n",
              "      <td>8</td>\n",
              "      <td>178</td>\n",
              "      <td>2011-06-12 11:39:00</td>\n",
              "      <td>2011-06-12 14:37:00</td>\n",
              "      <td>0</td>\n",
              "    </tr>\n",
              "    <tr>\n",
              "      <th>297</th>\n",
              "      <td>8</td>\n",
              "      <td>4</td>\n",
              "      <td>4</td>\n",
              "      <td>8</td>\n",
              "      <td>287</td>\n",
              "      <td>2011-07-12 20:45:00</td>\n",
              "      <td>2011-08-12 01:32:00</td>\n",
              "      <td>0</td>\n",
              "    </tr>\n",
              "    <tr>\n",
              "      <th>298</th>\n",
              "      <td>1</td>\n",
              "      <td>4</td>\n",
              "      <td>1</td>\n",
              "      <td>6</td>\n",
              "      <td>575</td>\n",
              "      <td>2011-08-12 01:39:00</td>\n",
              "      <td>2011-08-12 11:14:00</td>\n",
              "      <td>0</td>\n",
              "    </tr>\n",
              "    <tr>\n",
              "      <th>308</th>\n",
              "      <td>8</td>\n",
              "      <td>4</td>\n",
              "      <td>4</td>\n",
              "      <td>8</td>\n",
              "      <td>125</td>\n",
              "      <td>2011-08-12 11:36:00</td>\n",
              "      <td>2011-08-12 13:41:00</td>\n",
              "      <td>0</td>\n",
              "    </tr>\n",
              "    <tr>\n",
              "      <th>314</th>\n",
              "      <td>8</td>\n",
              "      <td>4</td>\n",
              "      <td>4</td>\n",
              "      <td>8</td>\n",
              "      <td>178</td>\n",
              "      <td>2011-08-12 19:12:00</td>\n",
              "      <td>2011-08-12 22:10:00</td>\n",
              "      <td>0</td>\n",
              "    </tr>\n",
              "    <tr>\n",
              "      <th>361</th>\n",
              "      <td>8</td>\n",
              "      <td>4</td>\n",
              "      <td>4</td>\n",
              "      <td>8</td>\n",
              "      <td>183</td>\n",
              "      <td>2011-10-12 17:13:00</td>\n",
              "      <td>2011-10-12 20:16:00</td>\n",
              "      <td>0</td>\n",
              "    </tr>\n",
              "    <tr>\n",
              "      <th>367</th>\n",
              "      <td>1</td>\n",
              "      <td>4</td>\n",
              "      <td>1</td>\n",
              "      <td>6</td>\n",
              "      <td>510</td>\n",
              "      <td>2011-11-12 02:28:00</td>\n",
              "      <td>2011-11-12 10:58:00</td>\n",
              "      <td>0</td>\n",
              "    </tr>\n",
              "    <tr>\n",
              "      <th>383</th>\n",
              "      <td>8</td>\n",
              "      <td>4</td>\n",
              "      <td>4</td>\n",
              "      <td>8</td>\n",
              "      <td>219</td>\n",
              "      <td>2011-11-12 15:43:00</td>\n",
              "      <td>2011-11-12 19:22:00</td>\n",
              "      <td>0</td>\n",
              "    </tr>\n",
              "    <tr>\n",
              "      <th>394</th>\n",
              "      <td>8</td>\n",
              "      <td>4</td>\n",
              "      <td>4</td>\n",
              "      <td>8</td>\n",
              "      <td>216</td>\n",
              "      <td>2011-12-12 12:47:00</td>\n",
              "      <td>2011-12-12 16:23:00</td>\n",
              "      <td>0</td>\n",
              "    </tr>\n",
              "    <tr>\n",
              "      <th>401</th>\n",
              "      <td>8</td>\n",
              "      <td>4</td>\n",
              "      <td>4</td>\n",
              "      <td>8</td>\n",
              "      <td>182</td>\n",
              "      <td>2011-12-12 16:48:00</td>\n",
              "      <td>2011-12-12 19:50:00</td>\n",
              "      <td>0</td>\n",
              "    </tr>\n",
              "    <tr>\n",
              "      <th>414</th>\n",
              "      <td>8</td>\n",
              "      <td>4</td>\n",
              "      <td>4</td>\n",
              "      <td>8</td>\n",
              "      <td>129</td>\n",
              "      <td>2011-12-13 12:37:00</td>\n",
              "      <td>2011-12-13 14:46:00</td>\n",
              "      <td>0</td>\n",
              "    </tr>\n",
              "    <tr>\n",
              "      <th>425</th>\n",
              "      <td>8</td>\n",
              "      <td>4</td>\n",
              "      <td>4</td>\n",
              "      <td>8</td>\n",
              "      <td>224</td>\n",
              "      <td>2011-12-13 21:57:00</td>\n",
              "      <td>2011-12-14 01:41:00</td>\n",
              "      <td>0</td>\n",
              "    </tr>\n",
              "    <tr>\n",
              "      <th>437</th>\n",
              "      <td>8</td>\n",
              "      <td>4</td>\n",
              "      <td>4</td>\n",
              "      <td>8</td>\n",
              "      <td>180</td>\n",
              "      <td>2011-12-14 13:52:00</td>\n",
              "      <td>2011-12-14 16:52:00</td>\n",
              "      <td>0</td>\n",
              "    </tr>\n",
              "    <tr>\n",
              "      <th>448</th>\n",
              "      <td>8</td>\n",
              "      <td>4</td>\n",
              "      <td>4</td>\n",
              "      <td>8</td>\n",
              "      <td>180</td>\n",
              "      <td>2011-12-14 20:40:00</td>\n",
              "      <td>2011-12-14 23:40:00</td>\n",
              "      <td>0</td>\n",
              "    </tr>\n",
              "    <tr>\n",
              "      <th>449</th>\n",
              "      <td>1</td>\n",
              "      <td>4</td>\n",
              "      <td>1</td>\n",
              "      <td>6</td>\n",
              "      <td>640</td>\n",
              "      <td>2011-12-14 23:42:00</td>\n",
              "      <td>2011-12-15 10:32:00</td>\n",
              "      <td>0</td>\n",
              "    </tr>\n",
              "    <tr>\n",
              "      <th>495</th>\n",
              "      <td>8</td>\n",
              "      <td>4</td>\n",
              "      <td>4</td>\n",
              "      <td>8</td>\n",
              "      <td>325</td>\n",
              "      <td>2011-12-17 10:30:00</td>\n",
              "      <td>2011-12-17 15:55:00</td>\n",
              "      <td>0</td>\n",
              "    </tr>\n",
              "    <tr>\n",
              "      <th>516</th>\n",
              "      <td>8</td>\n",
              "      <td>4</td>\n",
              "      <td>4</td>\n",
              "      <td>8</td>\n",
              "      <td>180</td>\n",
              "      <td>2011-12-18 11:47:00</td>\n",
              "      <td>2011-12-18 14:47:00</td>\n",
              "      <td>0</td>\n",
              "    </tr>\n",
              "    <tr>\n",
              "      <th>541</th>\n",
              "      <td>8</td>\n",
              "      <td>4</td>\n",
              "      <td>4</td>\n",
              "      <td>8</td>\n",
              "      <td>184</td>\n",
              "      <td>2011-12-19 15:45:00</td>\n",
              "      <td>2011-12-19 18:49:00</td>\n",
              "      <td>0</td>\n",
              "    </tr>\n",
              "    <tr>\n",
              "      <th>552</th>\n",
              "      <td>1</td>\n",
              "      <td>4</td>\n",
              "      <td>1</td>\n",
              "      <td>6</td>\n",
              "      <td>455</td>\n",
              "      <td>2011-12-20 23:57:00</td>\n",
              "      <td>2011-12-20 07:32:00</td>\n",
              "      <td>0</td>\n",
              "    </tr>\n",
              "    <tr>\n",
              "      <th>565</th>\n",
              "      <td>8</td>\n",
              "      <td>4</td>\n",
              "      <td>4</td>\n",
              "      <td>8</td>\n",
              "      <td>220</td>\n",
              "      <td>2011-12-20 15:59:00</td>\n",
              "      <td>2011-12-20 19:39:00</td>\n",
              "      <td>0</td>\n",
              "    </tr>\n",
              "    <tr>\n",
              "      <th>571</th>\n",
              "      <td>11</td>\n",
              "      <td>1</td>\n",
              "      <td>0</td>\n",
              "      <td>9</td>\n",
              "      <td>109</td>\n",
              "      <td>2011-12-21 02:46:00</td>\n",
              "      <td>2011-12-21 04:35:00</td>\n",
              "      <td>1</td>\n",
              "    </tr>\n",
              "    <tr>\n",
              "      <th>595</th>\n",
              "      <td>3</td>\n",
              "      <td>3</td>\n",
              "      <td>3</td>\n",
              "      <td>1</td>\n",
              "      <td>155</td>\n",
              "      <td>2011-12-22 02:55:00</td>\n",
              "      <td>2011-12-22 05:30:00</td>\n",
              "      <td>1</td>\n",
              "    </tr>\n",
              "    <tr>\n",
              "      <th>603</th>\n",
              "      <td>8</td>\n",
              "      <td>4</td>\n",
              "      <td>4</td>\n",
              "      <td>8</td>\n",
              "      <td>244</td>\n",
              "      <td>2011-12-22 09:58:00</td>\n",
              "      <td>2011-12-22 14:12:00</td>\n",
              "      <td>0</td>\n",
              "    </tr>\n",
              "    <tr>\n",
              "      <th>604</th>\n",
              "      <td>5</td>\n",
              "      <td>2</td>\n",
              "      <td>3</td>\n",
              "      <td>4</td>\n",
              "      <td>100</td>\n",
              "      <td>2011-12-22 14:14:00</td>\n",
              "      <td>2011-12-22 15:30:00</td>\n",
              "      <td>1</td>\n",
              "    </tr>\n",
              "    <tr>\n",
              "      <th>618</th>\n",
              "      <td>1</td>\n",
              "      <td>4</td>\n",
              "      <td>1</td>\n",
              "      <td>6</td>\n",
              "      <td>978</td>\n",
              "      <td>2011-12-23 23:42:00</td>\n",
              "      <td>2011-12-23 16:00:00</td>\n",
              "      <td>1</td>\n",
              "    </tr>\n",
              "  </tbody>\n",
              "</table>\n",
              "</div>"
            ],
            "text/plain": [
              "     Location  Type  Place  ...          Start time            End time Anomaly\n",
              "0           1     4      1  ... 2011-11-28 02:27:00 2011-11-28 10:18:00       0\n",
              "28          8     4      4  ... 2011-11-28 16:10:00 2011-11-28 20:19:00       0\n",
              "102         8     4      4  ... 2011-11-30 20:24:00 2011-01-12 01:34:00       1\n",
              "103         1     4      1  ... 2011-01-12 01:37:00 2011-01-12 10:50:00       0\n",
              "112         8     4      4  ... 2011-01-12 11:30:00 2011-01-12 14:29:00       0\n",
              "141         8     4      4  ... 2011-02-12 12:37:00 2011-02-12 14:46:00       0\n",
              "156         1     4      1  ... 2011-03-12 01:47:00 2011-03-12 11:40:00       0\n",
              "196         8     4      4  ... 2011-04-12 22:00:00 2011-04-12 01:00:00       0\n",
              "234         8     4      4  ... 2011-05-12 21:07:00 2011-06-12 00:38:00       0\n",
              "247         8     4      4  ... 2011-06-12 11:39:00 2011-06-12 14:37:00       0\n",
              "297         8     4      4  ... 2011-07-12 20:45:00 2011-08-12 01:32:00       0\n",
              "298         1     4      1  ... 2011-08-12 01:39:00 2011-08-12 11:14:00       0\n",
              "308         8     4      4  ... 2011-08-12 11:36:00 2011-08-12 13:41:00       0\n",
              "314         8     4      4  ... 2011-08-12 19:12:00 2011-08-12 22:10:00       0\n",
              "361         8     4      4  ... 2011-10-12 17:13:00 2011-10-12 20:16:00       0\n",
              "367         1     4      1  ... 2011-11-12 02:28:00 2011-11-12 10:58:00       0\n",
              "383         8     4      4  ... 2011-11-12 15:43:00 2011-11-12 19:22:00       0\n",
              "394         8     4      4  ... 2011-12-12 12:47:00 2011-12-12 16:23:00       0\n",
              "401         8     4      4  ... 2011-12-12 16:48:00 2011-12-12 19:50:00       0\n",
              "414         8     4      4  ... 2011-12-13 12:37:00 2011-12-13 14:46:00       0\n",
              "425         8     4      4  ... 2011-12-13 21:57:00 2011-12-14 01:41:00       0\n",
              "437         8     4      4  ... 2011-12-14 13:52:00 2011-12-14 16:52:00       0\n",
              "448         8     4      4  ... 2011-12-14 20:40:00 2011-12-14 23:40:00       0\n",
              "449         1     4      1  ... 2011-12-14 23:42:00 2011-12-15 10:32:00       0\n",
              "495         8     4      4  ... 2011-12-17 10:30:00 2011-12-17 15:55:00       0\n",
              "516         8     4      4  ... 2011-12-18 11:47:00 2011-12-18 14:47:00       0\n",
              "541         8     4      4  ... 2011-12-19 15:45:00 2011-12-19 18:49:00       0\n",
              "552         1     4      1  ... 2011-12-20 23:57:00 2011-12-20 07:32:00       0\n",
              "565         8     4      4  ... 2011-12-20 15:59:00 2011-12-20 19:39:00       0\n",
              "571        11     1      0  ... 2011-12-21 02:46:00 2011-12-21 04:35:00       1\n",
              "595         3     3      3  ... 2011-12-22 02:55:00 2011-12-22 05:30:00       1\n",
              "603         8     4      4  ... 2011-12-22 09:58:00 2011-12-22 14:12:00       0\n",
              "604         5     2      3  ... 2011-12-22 14:14:00 2011-12-22 15:30:00       1\n",
              "618         1     4      1  ... 2011-12-23 23:42:00 2011-12-23 16:00:00       1\n",
              "\n",
              "[34 rows x 8 columns]"
            ]
          },
          "metadata": {
            "tags": []
          },
          "execution_count": 75
        }
      ]
    },
    {
      "cell_type": "code",
      "metadata": {
        "colab": {
          "base_uri": "https://localhost:8080/"
        },
        "id": "UptcfkOL3ia3",
        "outputId": "f41fd68c-8aaf-4f21-c538-dce99846fc4b"
      },
      "source": [
        "mergedOCSVM.count()"
      ],
      "execution_count": null,
      "outputs": [
        {
          "output_type": "execute_result",
          "data": {
            "text/plain": [
              "Location      34\n",
              "Type          34\n",
              "Place         34\n",
              "Activity      34\n",
              "Duration      34\n",
              "Start time    34\n",
              "End time      34\n",
              "Anomaly       34\n",
              "dtype: int64"
            ]
          },
          "metadata": {
            "tags": []
          },
          "execution_count": 76
        }
      ]
    },
    {
      "cell_type": "code",
      "metadata": {
        "colab": {
          "base_uri": "https://localhost:8080/",
          "height": 266
        },
        "id": "zqlmHQh_2xrD",
        "outputId": "d31303a2-93b7-4356-bc67-f72a12fe4df6"
      },
      "source": [
        "mergedLOF = outlier_values.merge(y, left_index=True, right_index=True, how='inner')\n",
        "mergedLOF"
      ],
      "execution_count": null,
      "outputs": [
        {
          "output_type": "execute_result",
          "data": {
            "text/html": [
              "<div>\n",
              "<style scoped>\n",
              "    .dataframe tbody tr th:only-of-type {\n",
              "        vertical-align: middle;\n",
              "    }\n",
              "\n",
              "    .dataframe tbody tr th {\n",
              "        vertical-align: top;\n",
              "    }\n",
              "\n",
              "    .dataframe thead th {\n",
              "        text-align: right;\n",
              "    }\n",
              "</style>\n",
              "<table border=\"1\" class=\"dataframe\">\n",
              "  <thead>\n",
              "    <tr style=\"text-align: right;\">\n",
              "      <th></th>\n",
              "      <th>Location</th>\n",
              "      <th>Type</th>\n",
              "      <th>Place</th>\n",
              "      <th>Activity</th>\n",
              "      <th>Duration</th>\n",
              "      <th>Start time</th>\n",
              "      <th>End time</th>\n",
              "      <th>Anomaly</th>\n",
              "    </tr>\n",
              "  </thead>\n",
              "  <tbody>\n",
              "    <tr>\n",
              "      <th>13</th>\n",
              "      <td>8</td>\n",
              "      <td>4</td>\n",
              "      <td>4</td>\n",
              "      <td>8</td>\n",
              "      <td>134</td>\n",
              "      <td>2011-11-28 10:51:00</td>\n",
              "      <td>2011-11-28 13:05:00</td>\n",
              "      <td>0</td>\n",
              "    </tr>\n",
              "    <tr>\n",
              "      <th>262</th>\n",
              "      <td>8</td>\n",
              "      <td>4</td>\n",
              "      <td>4</td>\n",
              "      <td>8</td>\n",
              "      <td>267</td>\n",
              "      <td>2011-06-12 19:40:00</td>\n",
              "      <td>2011-07-12 00:07:00</td>\n",
              "      <td>0</td>\n",
              "    </tr>\n",
              "    <tr>\n",
              "      <th>276</th>\n",
              "      <td>8</td>\n",
              "      <td>4</td>\n",
              "      <td>4</td>\n",
              "      <td>8</td>\n",
              "      <td>154</td>\n",
              "      <td>2011-07-12 11:22:00</td>\n",
              "      <td>2011-07-12 13:56:00</td>\n",
              "      <td>0</td>\n",
              "    </tr>\n",
              "    <tr>\n",
              "      <th>488</th>\n",
              "      <td>8</td>\n",
              "      <td>4</td>\n",
              "      <td>4</td>\n",
              "      <td>8</td>\n",
              "      <td>163</td>\n",
              "      <td>2011-12-16 22:45:00</td>\n",
              "      <td>2011-12-17 01:00:00</td>\n",
              "      <td>0</td>\n",
              "    </tr>\n",
              "    <tr>\n",
              "      <th>526</th>\n",
              "      <td>3</td>\n",
              "      <td>3</td>\n",
              "      <td>3</td>\n",
              "      <td>1</td>\n",
              "      <td>35</td>\n",
              "      <td>2011-12-18 20:50:00</td>\n",
              "      <td>2011-12-18 21:25:00</td>\n",
              "      <td>0</td>\n",
              "    </tr>\n",
              "    <tr>\n",
              "      <th>593</th>\n",
              "      <td>1</td>\n",
              "      <td>4</td>\n",
              "      <td>1</td>\n",
              "      <td>6</td>\n",
              "      <td>78</td>\n",
              "      <td>2011-12-22 01:24:00</td>\n",
              "      <td>2011-12-22 02:42:00</td>\n",
              "      <td>0</td>\n",
              "    </tr>\n",
              "    <tr>\n",
              "      <th>600</th>\n",
              "      <td>1</td>\n",
              "      <td>4</td>\n",
              "      <td>1</td>\n",
              "      <td>6</td>\n",
              "      <td>150</td>\n",
              "      <td>2011-12-22 07:10:00</td>\n",
              "      <td>2011-12-22 09:40:00</td>\n",
              "      <td>0</td>\n",
              "    </tr>\n",
              "  </tbody>\n",
              "</table>\n",
              "</div>"
            ],
            "text/plain": [
              "     Location  Type  Place  ...          Start time            End time Anomaly\n",
              "13          8     4      4  ... 2011-11-28 10:51:00 2011-11-28 13:05:00       0\n",
              "262         8     4      4  ... 2011-06-12 19:40:00 2011-07-12 00:07:00       0\n",
              "276         8     4      4  ... 2011-07-12 11:22:00 2011-07-12 13:56:00       0\n",
              "488         8     4      4  ... 2011-12-16 22:45:00 2011-12-17 01:00:00       0\n",
              "526         3     3      3  ... 2011-12-18 20:50:00 2011-12-18 21:25:00       0\n",
              "593         1     4      1  ... 2011-12-22 01:24:00 2011-12-22 02:42:00       0\n",
              "600         1     4      1  ... 2011-12-22 07:10:00 2011-12-22 09:40:00       0\n",
              "\n",
              "[7 rows x 8 columns]"
            ]
          },
          "metadata": {
            "tags": []
          },
          "execution_count": 77
        }
      ]
    },
    {
      "cell_type": "code",
      "metadata": {
        "colab": {
          "base_uri": "https://localhost:8080/"
        },
        "id": "ZP58eRm-2xtw",
        "outputId": "85890ab2-6787-480d-8002-afa3d5f022b6"
      },
      "source": [
        "mergedLOF.count()"
      ],
      "execution_count": null,
      "outputs": [
        {
          "output_type": "execute_result",
          "data": {
            "text/plain": [
              "Location      7\n",
              "Type          7\n",
              "Place         7\n",
              "Activity      7\n",
              "Duration      7\n",
              "Start time    7\n",
              "End time      7\n",
              "Anomaly       7\n",
              "dtype: int64"
            ]
          },
          "metadata": {
            "tags": []
          },
          "execution_count": 78
        }
      ]
    },
    {
      "cell_type": "code",
      "metadata": {
        "id": "nWTDomzJDesv"
      },
      "source": [
        ""
      ],
      "execution_count": null,
      "outputs": []
    },
    {
      "cell_type": "code",
      "metadata": {
        "id": "HODPGOF2Devc"
      },
      "source": [
        ""
      ],
      "execution_count": null,
      "outputs": []
    }
  ]
}